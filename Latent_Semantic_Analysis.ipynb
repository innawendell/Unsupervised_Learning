{
 "cells": [
  {
   "cell_type": "code",
   "execution_count": 1,
   "metadata": {
    "run_control": {
     "frozen": false,
     "read_only": false
    }
   },
   "outputs": [],
   "source": [
    "import numpy as np\n",
    "import pandas as pd\n",
    "import scipy\n",
    "import matplotlib.pyplot as plt\n",
    "import seaborn as sns\n",
    "%matplotlib inline"
   ]
  },
  {
   "cell_type": "markdown",
   "metadata": {},
   "source": [
    "This notebook will explore Latent Semantic Analysis in combination with tfidf Vectorizer to identify potential topics in *Emma* by Jane Austen."
   ]
  },
  {
   "cell_type": "markdown",
   "metadata": {},
   "source": [
    "# Preprocessing of the Text"
   ]
  },
  {
   "cell_type": "code",
   "execution_count": 2,
   "metadata": {},
   "outputs": [
    {
     "name": "stderr",
     "output_type": "stream",
     "text": [
      "/usr/local/lib/python3.7/site-packages/sklearn/utils/__init__.py:4: DeprecationWarning: Using or importing the ABCs from 'collections' instead of from 'collections.abc' is deprecated, and in 3.8 it will stop working\n",
      "  from collections import Sequence\n"
     ]
    },
    {
     "name": "stdout",
     "output_type": "stream",
     "text": [
      "[nltk_data] Downloading package gutenberg to /Users/admin/nltk_data...\n",
      "[nltk_data]   Package gutenberg is already up-to-date!\n"
     ]
    }
   ],
   "source": [
    "import nltk\n",
    "from nltk.corpus import gutenberg\n",
    "nltk.download('gutenberg')\n",
    "import re\n",
    "from sklearn.model_selection import train_test_split"
   ]
  },
  {
   "cell_type": "code",
   "execution_count": 3,
   "metadata": {},
   "outputs": [
    {
     "name": "stdout",
     "output_type": "stream",
     "text": [
      "[nltk_data] Downloading package punkt to /Users/admin/nltk_data...\n",
      "[nltk_data]   Package punkt is already up-to-date!\n"
     ]
    }
   ],
   "source": [
    "#reading in the data, this time in the form of paragraphs\n",
    "nltk.download('punkt')\n",
    "emma = gutenberg.paras('austen-emma.txt')"
   ]
  },
  {
   "cell_type": "code",
   "execution_count": 4,
   "metadata": {
    "run_control": {
     "frozen": false,
     "read_only": false
    }
   },
   "outputs": [
    {
     "name": "stdout",
     "output_type": "stream",
     "text": [
      "['[ Emma by Jane Austen 1816 ]', 'VOLUME I', 'CHAPTER I', 'Emma Woodhouse , handsome , clever , and rich , with a comfortable home and happy disposition , seemed to unite some of the best blessings of existence ; and had lived nearly twenty - one years in the world with very little to distress or vex her .']\n"
     ]
    }
   ],
   "source": [
    "#reading in the data, this time in the form of paragraphs\n",
    "emma=gutenberg.paras('austen-emma.txt')\n",
    "\n",
    "#processing\n",
    "emma_paras=[]\n",
    "for paragraph in emma:\n",
    "    para=paragraph[0]\n",
    "    #removing the double-dash from all words\n",
    "    para=[re.sub(r'--','',word) for word in para]\n",
    "    #Forming each paragraph into a string and adding it to the list of strings.\n",
    "    emma_paras.append(' '.join(para))\n",
    "\n",
    "print(emma_paras[0:4])"
   ]
  },
  {
   "cell_type": "markdown",
   "metadata": {
    "run_control": {
     "frozen": false,
     "read_only": false
    }
   },
   "source": [
    "# tfidf Vectorizer in sklearn"
   ]
  },
  {
   "cell_type": "code",
   "execution_count": 5,
   "metadata": {
    "run_control": {
     "frozen": false,
     "read_only": false
    },
    "scrolled": false
   },
   "outputs": [
    {
     "name": "stdout",
     "output_type": "stream",
     "text": [
      "Number of features: 1948\n",
      "Original sentence: A very few minutes more , however , completed the present trial .\n",
      "Tf_idf vector: {'minutes': 0.7127450310382584, 'present': 0.701423210857947}\n"
     ]
    }
   ],
   "source": [
    "from sklearn.feature_extraction.text import TfidfVectorizer\n",
    "\n",
    "X_train, X_test = train_test_split(emma_paras, test_size=0.4, random_state=0)\n",
    "\n",
    "vectorizer = TfidfVectorizer(max_df=0.5, # drop words that occur in more than half the paragraphs\n",
    "                             min_df=2, # only use words that appear at least twice\n",
    "                             stop_words='english', \n",
    "                             lowercase=True, #convert everything to lower case (since Alice in Wonderland has the HABIT of CAPITALIZING WORDS for EMPHASIS)\n",
    "                             use_idf=True,#we definitely want to use inverse document frequencies in our weighting\n",
    "                             norm=u'l2', #Applies a correction factor so that longer paragraphs and shorter paragraphs get treated equally\n",
    "                             smooth_idf=True #Adds 1 to all document frequencies, as if an extra document existed that used every word once.  Prevents divide-by-zero errors\n",
    "                            )\n",
    "\n",
    "\n",
    "#Applying the vectorizer\n",
    "emma_paras_tfidf=vectorizer.fit_transform(emma_paras)\n",
    "print(\"Number of features: %d\" % emma_paras_tfidf.get_shape()[1])\n",
    "\n",
    "#splitting into training and test sets\n",
    "X_train_tfidf, X_test_tfidf= train_test_split(emma_paras_tfidf, test_size=0.4, random_state=0)\n",
    "\n",
    "\n",
    "#Reshapes the vectorizer output into something people can read\n",
    "X_train_tfidf_csr = X_train_tfidf.tocsr()\n",
    "\n",
    "#number of paragraphs\n",
    "n = X_train_tfidf_csr.shape[0]\n",
    "#A list of dictionaries, one per paragraph\n",
    "tfidf_bypara = [{} for _ in range(0,n)]\n",
    "#List of features\n",
    "terms = vectorizer.get_feature_names()\n",
    "#for each paragraph, lists the feature words and their tf-idf scores\n",
    "for i, j in zip(*X_train_tfidf_csr.nonzero()):\n",
    "    tfidf_bypara[i][terms[j]] = X_train_tfidf_csr[i, j]\n",
    "\n",
    "#Keep in mind that the log base 2 of 1 is 0, so a tf-idf score of 0 indicates that the word was present once in that sentence.\n",
    "print('Original sentence:', X_train[5])\n",
    "print('Tf_idf vector:', tfidf_bypara[5])"
   ]
  },
  {
   "cell_type": "markdown",
   "metadata": {
    "run_control": {
     "frozen": false,
     "read_only": false
    }
   },
   "source": [
    "# Dimension reduction\n",
    "We will use Single Value Decomposition because we are dealing with a sparse matrix (which contains mainly zeroes and few non-zero values)."
   ]
  },
  {
   "cell_type": "code",
   "execution_count": 6,
   "metadata": {
    "run_control": {
     "frozen": false,
     "read_only": false
    },
    "scrolled": false
   },
   "outputs": [
    {
     "name": "stdout",
     "output_type": "stream",
     "text": [
      "Percent variance captured by all components: 45.20713790185407\n",
      "Component 0:\n",
      "\" Oh !     0.999285\n",
      "\" Oh !     0.999285\n",
      "\" Oh !     0.999285\n",
      "\" Oh !     0.999285\n",
      "\" Oh !     0.999285\n",
      "\" Oh !     0.999285\n",
      "\" Oh !     0.999285\n",
      "\" Oh !\"    0.999285\n",
      "\" Oh !     0.999285\n",
      "\" Oh !     0.999285\n",
      "Name: 0, dtype: float64\n",
      "Component 1:\n",
      "\" You have made her too tall , Emma ,\" said Mr . Knightley .                                                                                                                0.633563\n",
      "\" You get upon delicate subjects , Emma ,\" said Mrs . Weston smiling ; \" remember that I am here . Mr .                                                                     0.580363\n",
      "\" I do not know what your opinion may be , Mrs . Weston ,\" said Mr . Knightley , \" of this great intimacy between Emma and Harriet Smith , but I think it a bad thing .\"    0.563735\n",
      "\" You are right , Mrs . Weston ,\" said Mr . Knightley warmly , \" Miss Fairfax is as capable as any of us of forming a just opinion of Mrs . Elton .                         0.558375\n",
      "\" There were misunderstandings between them , Emma ; he said so expressly .                                                                                                 0.528672\n",
      "Mr . Knightley might quarrel with her , but Emma could not quarrel with herself .                                                                                           0.524294\n",
      "Emma found that it was not Mr . Weston ' s fault that the number of privy councillors was not yet larger .                                                                  0.514455\n",
      "\" Now ,\" said Emma , when they were fairly beyond the sweep gates , \" now Mr . Weston , do let me know what has happened .\"                                                 0.513049\n",
      "\" In one respect , perhaps , Mr . Elton ' s manners are superior to Mr . Knightley ' s or Mr . Weston ' s .                                                                 0.507984\n",
      "\" I do not admire it ,\" said Mr . Knightley .                                                                                                                               0.499313\n",
      "Name: 1, dtype: float64\n",
      "Component 2:\n",
      "CHAPTER I       0.998863\n",
      "CHAPTER V       0.998863\n",
      "CHAPTER I       0.998863\n",
      "CHAPTER I       0.998863\n",
      "CHAPTER V       0.998863\n",
      "CHAPTER X       0.998863\n",
      "CHAPTER V       0.998863\n",
      "CHAPTER X       0.998863\n",
      "CHAPTER X       0.998863\n",
      "CHAPTER XVII    0.997985\n",
      "Name: 2, dtype: float64\n",
      "Component 3:\n",
      "\" Ah !      0.992893\n",
      "\" Ah !      0.992893\n",
      "\" Ah !      0.992893\n",
      "\" Ah !      0.992893\n",
      "\" Ah !      0.992893\n",
      "But ah !    0.992893\n",
      "\" Ah !      0.992893\n",
      "\" Ah !      0.992893\n",
      "\" Ah !      0.992893\n",
      "But ah !    0.992893\n",
      "Name: 3, dtype: float64\n",
      "Component 4:\n",
      "\" There were misunderstandings between them , Emma ; he said so expressly .    0.650984\n",
      "\" Are you well , my Emma ?\"                                                    0.598605\n",
      "Emma demurred .                                                                0.598605\n",
      "Emma was silenced .                                                            0.587423\n",
      "At first it was downright dulness to Emma .                                    0.586708\n",
      "\" Emma , my dear Emma \"                                                        0.576835\n",
      "Emma could not resist .                                                        0.568836\n",
      "\" It is not now worth a regret ,\" said Emma .                                  0.567027\n",
      "\" For shame , Emma !                                                           0.542481\n",
      "\" I am ready ,\" said Emma , \" whenever I am wanted .\"                          0.501312\n",
      "Name: 4, dtype: float64\n"
     ]
    }
   ],
   "source": [
    "from sklearn.decomposition import TruncatedSVD\n",
    "from sklearn.pipeline import make_pipeline\n",
    "from sklearn.preprocessing import Normalizer\n",
    "\n",
    "#Our SVD data reducer.  We are going to reduce the feature space from 1379 to 130.\n",
    "svd= TruncatedSVD(130)\n",
    "lsa = make_pipeline(svd, Normalizer(copy=False))\n",
    "# Run SVD on the training data, then project the training data.\n",
    "X_train_lsa = lsa.fit_transform(X_train_tfidf)\n",
    "\n",
    "variance_explained=svd.explained_variance_ratio_\n",
    "total_variance = variance_explained.sum()\n",
    "print(\"Percent variance captured by all components:\",total_variance*100)\n",
    "\n",
    "#Looking at what sorts of paragraphs our solution considers similar, for the first five identified topics\n",
    "paras_by_component=pd.DataFrame(X_train_lsa,index=X_train)\n",
    "for i in range(5):\n",
    "    print('Component {}:'.format(i))\n",
    "    print(paras_by_component.loc[:,i].sort_values(ascending=False)[0:10])\n"
   ]
  },
  {
   "cell_type": "markdown",
   "metadata": {
    "run_control": {
     "frozen": false,
     "read_only": false
    }
   },
   "source": [
    "From gazing at the most representative sample paragraphs, it appears that component 0 targets the exclamation 'Oh!', component 1 seems to largely involve critical dialogue directed at or about the main character Emma, component 2 is chapter headings, component 3 is exclamations involving 'Ah!, and component 4 involves actions by or directly related to Emma.\n",
    "\n",
    "\n",
    "\n",
    "# Sentence similarity\n",
    "\n",
    "We can also look at how similar various sentences are to one another.  For example, here are the similarity scores (as a heatmap) of the first 10 sentences in the training set:\n"
   ]
  },
  {
   "cell_type": "code",
   "execution_count": 7,
   "metadata": {
    "run_control": {
     "frozen": false,
     "read_only": false
    }
   },
   "outputs": [
    {
     "data": {
      "image/png": "[encoded data removed]",
      "text/plain": [
       "<Figure size 432x288 with 2 Axes>"
      ]
     },
     "metadata": {},
     "output_type": "display_data"
    },
    {
     "name": "stdout",
     "output_type": "stream",
     "text": [
      "Key:\n",
      "0 That is _court_ .\n",
      "1 \" Yes , sir , I did indeed ; and I am very much obliged by your kind solicitude about me .\"\n",
      "2 \" How much his business engrosses him already is very plain from the circumstance of his forgetting to inquire for the book you recommended .\n",
      "3 To restrain him as much as might be , by her own manners , she was immediately preparing to speak with exquisite calmness and gravity of the weather and the night ; but scarcely had she begun , scarcely had they passed the sweep - gate and joined the other carriage , than she found her subject cut up  her hand seized  her attention demanded , and Mr . Elton actually making violent love to her : availing himself of the precious opportunity , declaring sentiments which must be already well known , hoping  fearing  adoring  ready to die if she refused him ; but flattering himself that his ardent attachment and unequalled love and unexampled passion could not fail of having some effect , and in short , very much resolved on being seriously accepted as soon as possible .\n",
      "4 Emma smiled and answered \" My visit was of use to the nervous part of her complaint , I hope ; but not even I can charm away a sore throat ; it is a most severe cold indeed .\n",
      "5 A very few minutes more , however , completed the present trial .\n",
      "6 \" I am delighted to hear you speak so stoutly on the subject ,\" replied Emma , smiling ; \" but you do not mean to deny that there was a time  and not very distant either  when you gave me reason to understand that you did care about him ?\"\n",
      "7 \" Very well ; and if he had intended to give her one , he would have told her so .\"\n",
      "8 Some laughed , and answered good - humouredly .\n",
      "9 \" There appeared such a perfectly good understanding among them all \" he began rather quickly , but checking himself , added , \" however , it is impossible for me to say on what terms they really were  how it might all be behind the scenes .\n"
     ]
    }
   ],
   "source": [
    "# Compute document similarity using LSA components\n",
    "similarity = np.asarray(np.asmatrix(X_train_lsa) * np.asmatrix(X_train_lsa).T)\n",
    "#Only taking the first 10 sentences\n",
    "sim_matrix=pd.DataFrame(similarity,index=X_train).iloc[0:10,0:10]\n",
    "#Making a plot\n",
    "ax = sns.heatmap(sim_matrix,yticklabels=range(10))\n",
    "plt.show()\n",
    "\n",
    "#Generating a key for the plot.\n",
    "print('Key:')\n",
    "for i in range(10):\n",
    "    print(i,sim_matrix.index[i])\n"
   ]
  },
  {
   "cell_type": "markdown",
   "metadata": {
    "run_control": {
     "frozen": false,
     "read_only": false
    }
   },
   "source": [
    "\n",
    "# Test set\n"
   ]
  },
  {
   "cell_type": "code",
   "execution_count": 8,
   "metadata": {
    "run_control": {
     "frozen": false,
     "read_only": false
    }
   },
   "outputs": [
    {
     "name": "stdout",
     "output_type": "stream",
     "text": [
      "Percent variance captured by all components: 45.20713790185407\n",
      "Component 0:\n",
      "\" Oh !         0.999285\n",
      "\" Oh !         0.999285\n",
      "\" Oh no !      0.999285\n",
      "\" Oh !         0.999285\n",
      "\" Oh !         0.999285\n",
      "\" Oh !         0.999285\n",
      "\" Oh !         0.999285\n",
      "\" Me ! oh !    0.999285\n",
      "\" Oh no !      0.999285\n",
      "\" Oh !         0.999285\n",
      "Name: 0, dtype: float64\n",
      "Component 1:\n",
      "\" Well , Mrs . Weston ,\" said Emma triumphantly when he left them , \" what do you say now to Mr . Knightley ' s marrying Jane Fairfax ?\"                                                                                                                                                                                                                                                                                                                                                                          0.674394\n",
      "Frank turned instantly to Emma , to claim her former promise ; and boasted himself an engaged man , which his father looked his most perfect approbation of  and it then appeared that Mrs . Weston was wanting _him_ to dance with Mrs . Elton himself , and that their business was to help to persuade him into it , which was done pretty soon . Mr . Weston and Mrs . Elton led the way , Mr . Frank Churchill and Miss Woodhouse followed .                                                                 0.602853\n",
      "\" He is a person I never think of from one month ' s end to another ,\" said Mr . Knightley , with a degree of vexation , which made Emma immediately talk of something else , though she could not comprehend why he should be angry .                                                                                                                                                                                                                                                                            0.573632\n",
      "After tea , Mr . and Mrs . Weston , and Mr . Elton sat down with Mr . Woodhouse to cards .                                                                                                                                                                                                                                                                                                                                                                                                                        0.566112\n",
      "The result of this distress was , that , with a much more voluntary , cheerful consent than his daughter had ever presumed to hope for at the moment , she was able to fix her wedding - day  and Mr . Elton was called on , within a month from the marriage of Mr . and Mrs . Robert Martin , to join the hands of Mr . Knightley and Miss Woodhouse .                                                                                                                                                          0.563516\n",
      "In this walk Emma and Mr . Weston found all the others assembled ; and towards this view she immediately perceived Mr . Knightley and Harriet distinct from the rest , quietly leading the way .                                                                                                                                                                                                                                                                                                                  0.561858\n",
      "\" Mrs . Weston ' s manners ,\" said Emma , \" were always particularly good .                                                                                                                                                                                                                                                                                                                                                                                                                                       0.548933\n",
      "Emma was more than half in hopes of Mr . Elton ' s having dropt a hint .                                                                                                                                                                                                                                                                                                                                                                                                                                          0.539999\n",
      "He had frightened her a little about Mr . Elton ; but when she considered that Mr . Knightley could not have observed him as she had done , neither with the interest , nor ( she must be allowed to tell herself , in spite of Mr . Knightley ' s pretensions ) with the skill of such an observer on such a question as herself , that he had spoken it hastily and in anger , she was able to believe , that he had rather said what he wished resentfully to be true , than what he knew any thing about .    0.533218\n",
      "\" Well ,\" said Emma , \" there is no disputing about taste . At least you admire her except her complexion .\"                                                                                                                                                                                                                                                                                                                                                                                                      0.533123\n",
      "Name: 1, dtype: float64\n",
      "Component 2:\n",
      "CHAPTER XV       0.998863\n",
      "CHAPTER XVIII    0.998863\n",
      "CHAPTER XV       0.998863\n",
      "CHAPTER XV       0.998863\n",
      "CHAPTER XVIII    0.998863\n",
      "CHAPTER XVIII    0.998863\n",
      "CHAPTER XIX      0.998863\n",
      "CHAPTER XVII     0.997985\n",
      "CHAPTER XVII     0.997985\n",
      "CHAPTER VI       0.997977\n",
      "Name: 2, dtype: float64\n",
      "Component 3:\n",
      "\" Ah !    0.992893\n",
      "\" Ah !    0.992893\n",
      "\" Ah !    0.992893\n",
      "\" Ah !    0.992893\n",
      "\" Ah !    0.992893\n",
      "\" Ah !    0.992893\n",
      "\" Ah !    0.992893\n",
      "\" Ah !    0.992893\n",
      "\" Ah !    0.992893\n",
      "\" Ah !    0.992893\n",
      "Name: 3, dtype: float64\n",
      "Component 4:\n",
      "Nobody had any information to give ; and , after a few more wonderings , Emma said ,                            0.631775\n",
      "\" No , no ,\" said Emma , \" it will not reckon low .                                                             0.630792\n",
      "\" Well ,\" said Emma , \" there is no disputing about taste . At least you admire her except her complexion .\"    0.621414\n",
      "\" My Emma !\"                                                                                                    0.598605\n",
      "\" Emma !\"                                                                                                       0.598605\n",
      "Emma had done .                                                                                                 0.598605\n",
      "Emma wondered on what , of all the medley , she would fix .                                                     0.593738\n",
      "\" And I do envy him , Emma .                                                                                    0.593304\n",
      "\" Emma ,\" said she , \" this paper is worse than I expected .                                                    0.572737\n",
      "\" No ,\" said Emma , laughing ; \" but perhaps there might be some made to his coming back again .                0.548267\n",
      "Name: 4, dtype: float64\n"
     ]
    }
   ],
   "source": [
    "# Remember, you will use the same model, only with the test set data.  Don't fit a new model by mistake!\n",
    "X_test_lsa = lsa.transform(X_test_tfidf)\n",
    "\n",
    "variance_explained=svd.explained_variance_ratio_\n",
    "total_variance = variance_explained.sum()\n",
    "print(\"Percent variance captured by all components:\",total_variance*100)\n",
    "\n",
    "#Looking at what sorts of paragraphs our solution considers similar, for the first five identified topics\n",
    "paras_by_component=pd.DataFrame(X_test_lsa,index=X_test)\n",
    "for i in range(5):\n",
    "    print('Component {}:'.format(i))\n",
    "    print(paras_by_component.loc[:,i].sort_values(ascending=False)[0:10])"
   ]
  },
  {
   "cell_type": "markdown",
   "metadata": {
    "run_control": {
     "frozen": false,
     "read_only": false
    }
   },
   "source": [
    "# Tweaking tf-idf\n"
   ]
  },
  {
   "cell_type": "code",
   "execution_count": 9,
   "metadata": {},
   "outputs": [],
   "source": [
    "import spacy"
   ]
  },
  {
   "cell_type": "code",
   "execution_count": 10,
   "metadata": {},
   "outputs": [],
   "source": [
    "emma_txt = gutenberg.raw('austen-emma.txt')"
   ]
  },
  {
   "cell_type": "code",
   "execution_count": 11,
   "metadata": {},
   "outputs": [],
   "source": [
    "nlp = spacy.load('en')\n",
    "emma_paras_new = []\n",
    "for entry in emma_paras:\n",
    "    emma_paras_new.append(nlp(entry))"
   ]
  },
  {
   "cell_type": "code",
   "execution_count": 13,
   "metadata": {},
   "outputs": [],
   "source": [
    "emma_paras_lemmas = []\n",
    "for entry in emma_paras:\n",
    "    entry_parsed = nlp(entry)\n",
    "    string = ''\n",
    "    for token in entry_parsed:\n",
    "        if not token.is_punct:\n",
    "            string += token.lemma_ + ' '\n",
    "    emma_paras_lemmas.append(string)"
   ]
  },
  {
   "cell_type": "code",
   "execution_count": 14,
   "metadata": {
    "run_control": {
     "frozen": false,
     "read_only": false
    }
   },
   "outputs": [
    {
     "name": "stdout",
     "output_type": "stream",
     "text": [
      "Number of features: 1948\n"
     ]
    }
   ],
   "source": [
    "#Applying the vectorizer\n",
    "emma_paras_lemmas_tfidf=vectorizer.fit_transform(emma_paras_lemmas)\n",
    "print(\"Number of features: %d\" % emma_paras_tfidf.get_shape()[1])"
   ]
  },
  {
   "cell_type": "code",
   "execution_count": 16,
   "metadata": {},
   "outputs": [],
   "source": [
    "X_train, X_test = train_test_split(emma_paras_lemmas, test_size=0.4, random_state=0)\n",
    "X_train_lemmas_tfidf, X_test_lemmas_tfidf= train_test_split(emma_paras_lemmas_tfidf, test_size=0.4, random_state=0)"
   ]
  },
  {
   "cell_type": "code",
   "execution_count": 17,
   "metadata": {},
   "outputs": [
    {
     "data": {
      "text/plain": [
       "array([[0.        , 0.        , 0.        , ..., 0.        , 0.        ,\n",
       "        0.        ],\n",
       "       [0.        , 0.        , 0.        , ..., 0.        , 0.        ,\n",
       "        0.        ],\n",
       "       [0.        , 0.        , 0.        , ..., 0.        , 0.        ,\n",
       "        0.        ],\n",
       "       ...,\n",
       "       [0.        , 0.        , 0.        , ..., 0.        , 0.        ,\n",
       "        0.        ],\n",
       "       [0.        , 0.        , 0.        , ..., 0.        , 0.42097455,\n",
       "        0.        ],\n",
       "       [0.        , 0.        , 0.        , ..., 0.        , 0.        ,\n",
       "        0.        ]])"
      ]
     },
     "execution_count": 17,
     "metadata": {},
     "output_type": "execute_result"
    }
   ],
   "source": [
    "X_train_lemmas_tfidf.toarray()"
   ]
  },
  {
   "cell_type": "code",
   "execution_count": 18,
   "metadata": {},
   "outputs": [
    {
     "name": "stdout",
     "output_type": "stream",
     "text": [
      "Percent variance captured by all components: 45.20713790185407\n"
     ]
    }
   ],
   "source": [
    "X_train_lsa_lemmas = lsa.fit_transform(X_train_lemmas_tfidf)\n",
    "\n",
    "variance_explained_lemmas=svd.explained_variance_ratio_\n",
    "total_variance = variance_explained.sum()\n",
    "print(\"Percent variance captured by all components:\",total_variance*100)\n"
   ]
  },
  {
   "cell_type": "code",
   "execution_count": 19,
   "metadata": {},
   "outputs": [
    {
     "name": "stdout",
     "output_type": "stream",
     "text": [
      "Component 0:\n",
      "oh     0.999109\n",
      "oh     0.999109\n",
      "oh     0.999109\n",
      "oh     0.999109\n",
      "oh     0.999109\n",
      "oh     0.999109\n",
      "oh     0.999109\n",
      "oh     0.999109\n",
      "oh     0.999109\n",
      "oh     0.999109\n",
      "Name: 0, dtype: float64\n",
      "Component 1:\n",
      "-PRON- get upon delicate subject emma say mrs weston smiling remember that -PRON- be here mr                                                                            0.640622\n",
      "-PRON- do not know what -PRON- opinion may be mrs weston say mr knightley of this great intimacy between emma and harriet smith but -PRON- think -PRON- a bad thing     0.586997\n",
      "-PRON- have make -PRON- too tall emma say mr knightley                                                                                                                  0.584052\n",
      "there be misunderstanding between -PRON- emma -PRON- say so expressly                                                                                                   0.583859\n",
      "emma could say no more                                                                                                                                                  0.583859\n",
      "mr weston will be almost as much relieved as -PRON- say -PRON-                                                                                                          0.539669\n",
      "now say emma when -PRON- be fairly beyond the sweep gate now mr weston do let -PRON- know what have happen                                                              0.532773\n",
      "-PRON- be right mrs weston say mr knightley warmly miss fairfax be as capable as any of -PRON- of form a just opinion of mrs elton                                      0.532699\n",
      "-PRON- be not now worth a regret say emma                                                                                                                               0.518262\n",
      "pray mr knightley say emma who have be smile to -PRON- through a great part of this speech how do -PRON- know that mr martin do not speak yesterday                     0.514891\n",
      "Name: 1, dtype: float64\n",
      "Component 2:\n",
      "chapter -PRON-     0.998881\n",
      "chapter x          0.998881\n",
      "chapter x          0.998881\n",
      "chapter -PRON-     0.998881\n",
      "chapter x          0.998881\n",
      "chapter v          0.998881\n",
      "chapter v          0.998881\n",
      "chapter -PRON-     0.998881\n",
      "chapter v          0.998881\n",
      "chapter vi         0.998002\n",
      "Name: 2, dtype: float64\n",
      "Component 3:\n",
      "there be misunderstanding between -PRON- emma -PRON- say so expressly     0.634656\n",
      "emma could say no more                                                    0.634656\n",
      "-PRON- be not now worth a regret say emma                                 0.548687\n",
      "emma -PRON- dear emma                                                     0.480461\n",
      "emma demur                                                                0.470797\n",
      "be -PRON- well -PRON- emma                                                0.470797\n",
      "at first -PRON- be downright dulness to emma                              0.461260\n",
      "but -PRON- will come again say emma                                       0.457595\n",
      "emma could not resist                                                     0.450409\n",
      "for shame emma                                                            0.441476\n",
      "Name: 3, dtype: float64\n",
      "Component 4:\n",
      "ah         0.985568\n",
      "but ah     0.985568\n",
      "ah         0.985568\n",
      "ah         0.985568\n",
      "ah         0.985568\n",
      "ah         0.985568\n",
      "ah         0.985568\n",
      "ah         0.985568\n",
      "ah         0.985568\n",
      "ah         0.985568\n",
      "Name: 4, dtype: float64\n"
     ]
    }
   ],
   "source": [
    "#Looking at what sorts of paragraphs our solution considers similar, for the first five identified topics\n",
    "paras_by_component=pd.DataFrame(X_train_lsa_lemmas,index=X_train)\n",
    "for i in range(5):\n",
    "    print('Component {}:'.format(i))\n",
    "    print(paras_by_component.loc[:,i].sort_values(ascending=False)[0:10])"
   ]
  },
  {
   "cell_type": "code",
   "execution_count": 20,
   "metadata": {},
   "outputs": [],
   "source": [
    "#Tweaks Go Here\n",
    "vectorizer_one = TfidfVectorizer(max_df=0.6, # drop words that occur in more than half the paragraphs\n",
    "                             min_df=30, # only use words that appear at least twice\n",
    "                             stop_words='english', \n",
    "                             lowercase=True, #convert everything to lower case (since Alice in Wonderland has the HABIT of CAPITALIZING WORDS for EMPHASIS)\n",
    "                             use_idf=True,#we definitely want to use inverse document frequencies in our weighting\n",
    "                             norm=u'l2', #Applies a correction factor so that longer paragraphs and shorter paragraphs get treated equally\n",
    "                             smooth_idf=True #Adds 1 to all document frequencies, as if an extra document existed that used every word once.  Prevents divide-by-zero errors\n",
    "                            )"
   ]
  },
  {
   "cell_type": "code",
   "execution_count": 21,
   "metadata": {},
   "outputs": [
    {
     "name": "stdout",
     "output_type": "stream",
     "text": [
      "Number of features: 102\n"
     ]
    }
   ],
   "source": [
    "#Applying the vectorizer\n",
    "emma_paras_lemmas_tfidf_one=vectorizer_one.fit_transform(emma_paras_lemmas)\n",
    "print(\"Number of features: %d\" % emma_paras_lemmas_tfidf_one.get_shape()[1])"
   ]
  },
  {
   "cell_type": "code",
   "execution_count": 22,
   "metadata": {},
   "outputs": [],
   "source": [
    "X_train_lemmas_tfidf_one, X_test_lemmas_tfidf_one= train_test_split(emma_paras_lemmas_tfidf_one, test_size=0.4, random_state=0)"
   ]
  },
  {
   "cell_type": "code",
   "execution_count": 23,
   "metadata": {},
   "outputs": [],
   "source": [
    "svd_one= TruncatedSVD(50)\n",
    "lsa_one = make_pipeline(svd_one, Normalizer(copy=False))"
   ]
  },
  {
   "cell_type": "code",
   "execution_count": 24,
   "metadata": {},
   "outputs": [
    {
     "name": "stdout",
     "output_type": "stream",
     "text": [
      "Percent variance captured by all components: 45.20713790185407\n"
     ]
    }
   ],
   "source": [
    "X_train_lsa_lemmas_one = lsa_one.fit_transform(X_train_lemmas_tfidf_one)\n",
    "\n",
    "variance_explained_lemmas=svd_one.explained_variance_ratio_\n",
    "total_variance = variance_explained.sum()\n",
    "print(\"Percent variance captured by all components:\",total_variance*100)"
   ]
  },
  {
   "cell_type": "code",
   "execution_count": 25,
   "metadata": {},
   "outputs": [
    {
     "name": "stdout",
     "output_type": "stream",
     "text": [
      "Component 0:\n",
      "-PRON- get upon delicate subject emma say mrs weston smiling remember that -PRON- be here mr                                                                                                                                                                                                                                                                                                                                                                                                                                                                                                                                                                                                                                                                                                                                                                                                                         0.743824\n",
      "mrs weston be act no part feign no feeling in all that -PRON- say to -PRON- in favour of the event -PRON- have be extremely surpriz never more so than when emma first open the affair to -PRON- but -PRON- see in -PRON- only increase of happiness to all and have no scruple in urge -PRON- to the utmost -PRON- have such a regard for mr knightley as to think -PRON- deserve even -PRON- dearest emma and -PRON- be in every respect so proper suitable and unexceptionable a connexion and in one respect one point of the high importance so peculiarly eligible so singularly fortunate that now -PRON- seem as if emma could not safely have attach -PRON- to any other creature and that -PRON- have -PRON- be the stupid of being in not have think of -PRON- and wish -PRON- long ago how very few of those man in a rank of life to address emma would have renounce -PRON- own home for hartfield     0.742086\n",
      "emma say mr knightley presently -PRON- have a piece of news for -PRON-                                                                                                                                                                                                                                                                                                                                                                                                                                                                                                                                                                                                                                                                                                                                                                                                                                               0.733584\n",
      "isabella and emma both write beautifully say mr woodhouse and always do                                                                                                                                                                                                                                                                                                                                                                                                                                                                                                                                                                                                                                                                                                                                                                                                                                              0.688490\n",
      "the intermediate month be the one fix on as far as -PRON- dare by emma and mr                                                                                                                                                                                                                                                                                                                                                                                                                                                                                                                                                                                                                                                                                                                                                                                                                                        0.687139\n",
      "emma could not have desire a more spirited rejection of mr martin s prose                                                                                                                                                                                                                                                                                                                                                                                                                                                                                                                                                                                                                                                                                                                                                                                                                                            0.687139\n",
      "emma be most agreeably surpriz mr                                                                                                                                                                                                                                                                                                                                                                                                                                                                                                                                                                                                                                                                                                                                                                                                                                                                                    0.687139\n",
      "there be misunderstanding between -PRON- emma -PRON- say so expressly                                                                                                                                                                                                                                                                                                                                                                                                                                                                                                                                                                                                                                                                                                                                                                                                                                                0.683209\n",
      "emma amuse -PRON- by protest that -PRON- be very extraordinary indeed and that -PRON- have not a syllable to say for -PRON-                                                                                                                                                                                                                                                                                                                                                                                                                                                                                                                                                                                                                                                                                                                                                                                          0.683209\n",
      "-PRON- be not now worth a regret say emma                                                                                                                                                                                                                                                                                                                                                                                                                                                                                                                                                                                                                                                                                                                                                                                                                                                                            0.683209\n",
      "Name: 0, dtype: float64\n",
      "Component 1:\n",
      "-PRON- mention no name -PRON- will observe oh     0.997259\n",
      "oh                                                0.997259\n",
      "oh                                                0.997259\n",
      "oh                                                0.997259\n",
      "oh                                                0.997259\n",
      "oh                                                0.997259\n",
      "oh                                                0.997259\n",
      "oh                                                0.997259\n",
      "oh                                                0.997259\n",
      "oh                                                0.997259\n",
      "Name: 1, dtype: float64\n",
      "Component 2:\n",
      "at first -PRON- be downright dulness to emma                                                                                                                             0.634942\n",
      "no sooner be -PRON- out of sight than emma exclaim                                                                                                                       0.634942\n",
      "emma demur                                                                                                                                                               0.634942\n",
      "be -PRON- well -PRON- emma                                                                                                                                               0.634942\n",
      "this wretched note be the finale of emma s breakfast                                                                                                                     0.634942\n",
      "emma be not sorry to be press                                                                                                                                            0.634942\n",
      "-PRON- be a very pretty girl and -PRON- beauty happen to be of a sort which emma particularly admire                                                                     0.634942\n",
      "emma be out of hearing                                                                                                                                                   0.634942\n",
      "emma be pleased with the thought and produce the box the table be quickly scatter over with alphabet which no one seem so much disposed to employ as -PRON- two self     0.634942\n",
      "emma laugh and disclaim                                                                                                                                                  0.634942\n",
      "Name: 2, dtype: float64\n",
      "Component 3:\n",
      "-PRON- trifle here say -PRON- as to the temptation                                                                                              0.797222\n",
      "thank -PRON- say -PRON- in an accent of deep mortification and not another syllable follow                                                      0.797222\n",
      "-PRON- may depend upon -PRON- say -PRON-                                                                                                        0.797222\n",
      "pray say no more                                                                                                                                0.797222\n",
      "-PRON- do not say -PRON- be so but -PRON- will do well to consider whether -PRON- be so or not and to regulate -PRON- behaviour accordingly     0.797222\n",
      "-PRON- have better go on say -PRON-                                                                                                             0.797222\n",
      "-PRON- be kindly say and very far from give offence                                                                                             0.797222\n",
      "-PRON- be too magnificent say -PRON-                                                                                                            0.797222\n",
      "be satisfied say -PRON- -PRON- will not raise any outcry                                                                                        0.797222\n",
      "-PRON- be glad -PRON- approve of what -PRON- have do say -PRON- very comfortably                                                                0.797222\n",
      "Name: 3, dtype: float64\n",
      "Component 4:\n",
      "-PRON- could think of nothing better and though there be something in -PRON- which -PRON- own heart could not approve   something of ingratitude merely gloss over   -PRON- must be do or what would become of harriet     0.869665\n",
      "harriet be silent                                                                                                                                                                                                          0.749730\n",
      "-PRON- be not at all surpriz at -PRON- harriet                                                                                                                                                                             0.749730\n",
      "harriet                                                                                                                                                                                                                    0.749730\n",
      "don t class -PRON- together harriet                                                                                                                                                                                        0.749730\n",
      "harriet smith be the natural daughter of somebody                                                                                                                                                                          0.749730\n",
      "harriet                                                                                                                                                                                                                    0.749730\n",
      "harriet kiss -PRON- hand in silent and submissive gratitude                                                                                                                                                                0.749730\n",
      "do -PRON- ever have -PRON- likeness take harriet                                                                                                                                                                           0.749730\n",
      "nor if -PRON- be could -PRON- ever bear to part with -PRON- -PRON- harriet                                                                                                                                                 0.749730\n",
      "Name: 4, dtype: float64\n"
     ]
    }
   ],
   "source": [
    "paras_by_component=pd.DataFrame(X_train_lsa_lemmas_one,index=X_train)\n",
    "for i in range(5):\n",
    "    print('Component {}:'.format(i))\n",
    "    print(paras_by_component.loc[:,i].sort_values(ascending=False)[0:10])"
   ]
  },
  {
   "cell_type": "markdown",
   "metadata": {},
   "source": [
    "# Test Set Components"
   ]
  },
  {
   "cell_type": "code",
   "execution_count": 26,
   "metadata": {},
   "outputs": [],
   "source": [
    "X_test_lsa_lemmas_one = lsa_one.transform(X_test_lemmas_tfidf_one)"
   ]
  },
  {
   "cell_type": "code",
   "execution_count": 27,
   "metadata": {},
   "outputs": [
    {
     "name": "stdout",
     "output_type": "stream",
     "text": [
      "Component 0:\n",
      "read -PRON- read -PRON- say -PRON- -PRON- will give -PRON- pleasure only a few line   will not take -PRON- long read -PRON- to emma                                                                                                      0.685243\n",
      "well say emma there be no dispute about taste at least -PRON- admire -PRON- except -PRON- complexion                                                                                                                                     0.683120\n",
      "very likely say emma nothing more likely                                                                                                                                                                                                 0.683120\n",
      "but -PRON- laugh so heartily at the recollection that emma could not help say                                                                                                                                                            0.683120\n",
      "no no say emma -PRON- will not reckon low                                                                                                                                                                                                0.683120\n",
      "nobody have any information to give and after a few more wondering emma say                                                                                                                                                              0.683120\n",
      "well mrs weston say emma triumphantly when -PRON- leave -PRON- what do -PRON- say now to mr knightley s marry jane fairfax                                                                                                               0.670314\n",
      "emma be extremely gratified -PRON- be interrupt by the bustle of mr weston call on every body to begin dance again                                                                                                                       0.628610\n",
      "-PRON- be a person -PRON- never think of from one month s end to another say mr knightley with a degree of vexation which make emma immediately talk of something else though -PRON- could not comprehend why -PRON- should be angry     0.628482\n",
      "emma say -PRON- this paper be bad than -PRON- expect                                                                                                                                                                                     0.621356\n",
      "Name: 0, dtype: float64\n",
      "Component 1:\n",
      "oh     0.997254\n",
      "oh     0.997254\n",
      "oh     0.997254\n",
      "oh     0.997254\n",
      "oh     0.997254\n",
      "oh     0.997254\n",
      "oh     0.997254\n",
      "oh     0.997254\n",
      "oh     0.997254\n",
      "oh     0.997254\n",
      "Name: 1, dtype: float64\n",
      "Component 2:\n",
      "-PRON- be as much as emma could bear without be impolite                                                                                                   0.63494\n",
      "-PRON- emma                                                                                                                                                0.63494\n",
      "emma recollect blush be sorry but try to laugh -PRON- off                                                                                                  0.63494\n",
      "emma be in no danger of forget                                                                                                                             0.63494\n",
      "emma                                                                                                                                                       0.63494\n",
      "emma be extremely confused                                                                                                                                 0.63494\n",
      "emma do not repent -PRON- condescension in go to the coles                                                                                                 0.63494\n",
      "such an imagination have cross -PRON- -PRON- own emma and if -PRON- never occur to -PRON- before -PRON- may as well take -PRON- into consideration now     0.63494\n",
      "no second meeting have there yet be between -PRON- and emma                                                                                                0.63494\n",
      "and -PRON- do envy -PRON- emma                                                                                                                             0.63494\n",
      "Name: 2, dtype: float64\n",
      "Component 3:\n",
      "upon -PRON- honour say -PRON- very seriously -PRON- do not                                                                      0.797103\n",
      "-PRON- choose to say -PRON- be employ                                                                                           0.797103\n",
      "don t say -PRON- be cross                                                                                                       0.797103\n",
      "this present from the campbells say -PRON- this pianoforte be very kindly give                                                  0.797103\n",
      "-PRON- be to be a secret -PRON- conclude say -PRON-                                                                             0.797103\n",
      "if -PRON- be very kind say -PRON- -PRON- will be one of the waltz -PRON- dance last night let -PRON- live -PRON- over again     0.797103\n",
      "there be no charm equal to tenderness of heart say -PRON- afterwards to -PRON-                                                  0.797103\n",
      "well say -PRON- in a deliberate manner for five minute perhaps                                                                  0.733391\n",
      "-PRON- dare say return harriet sigh again -PRON- dare say -PRON- be very much attach to -PRON-                                  0.718080\n",
      "this be the luxury of a large party say -PRON- one can get near every body and say every thing                                  0.637759\n",
      "Name: 3, dtype: float64\n",
      "Component 4:\n",
      "how -PRON- could have be so deceive -PRON- protest that -PRON- have never think seriously of harriet   never                                                                                                0.869588\n",
      "harriet be stand at one of the window                                                                                                                                                                       0.749624\n",
      "-PRON- be well to have a comfort in store on harriet s behalf though -PRON- may be wise to let the fancy touch -PRON- seldom for evil in that quarter be at hand                                            0.749624\n",
      "harriet must give -PRON- as much of -PRON- company as -PRON- can while -PRON- brother and sister be here                                                                                                    0.749624\n",
      "harriet exactly                                                                                                                                                                                             0.749624\n",
      "harriet poor harriet                                                                                                                                                                                        0.744936\n",
      "harriet have not surmise -PRON- own danger but the idea of -PRON- strike -PRON- forcibly                                                                                                                    0.742165\n",
      "-PRON- think harriet since -PRON- acquaintance with -PRON- -PRON- have be repeatedly in the company of some such very real gentleman that -PRON- must -PRON- be strike with the difference in mr martin     0.722786\n",
      "-PRON- be glad -PRON- think -PRON- have be useful to -PRON- but harriet only want draw out and receive a few very few hint                                                                                  0.719340\n",
      "harriet sleep at hartfield that night                                                                                                                                                                       0.717740\n",
      "Name: 4, dtype: float64\n"
     ]
    }
   ],
   "source": [
    "paras_by_component=pd.DataFrame(X_test_lsa_lemmas_one,index=X_test)\n",
    "for i in range(5):\n",
    "    print('Component {}:'.format(i))\n",
    "    print(paras_by_component.loc[:,i].sort_values(ascending=False)[0:10])"
   ]
  },
  {
   "cell_type": "markdown",
   "metadata": {},
   "source": [
    "## Components Identified:\n",
    "\n",
    "- component zero: Emma's utternaces\n",
    "- component one: 'oh' interjection\n",
    "- component two: Emma's inner world and her emotions\n",
    "- component 3: dialogue between Emma and a male character\n",
    "- component 4: related to Harriet\n"
   ]
  },
  {
   "cell_type": "code",
   "execution_count": null,
   "metadata": {},
   "outputs": [],
   "source": []
  }
 ],
 "metadata": {
  "hide_input": false,
  "kernelspec": {
   "display_name": "Python 3",
   "language": "python",
   "name": "python3"
  },
  "language_info": {
   "codemirror_mode": {
    "name": "ipython",
    "version": 3
   },
   "file_extension": ".py",
   "mimetype": "text/x-python",
   "name": "python",
   "nbconvert_exporter": "python",
   "pygments_lexer": "ipython3",
   "version": "3.7.0"
  },
  "toc": {
   "colors": {
    "hover_highlight": "#DAA520",
    "running_highlight": "#FF0000",
    "selected_highlight": "#FFD700"
   },
   "moveMenuLeft": true,
   "nav_menu": {
    "height": "142px",
    "width": "252px"
   },
   "navigate_menu": true,
   "number_sections": true,
   "sideBar": true,
   "threshold": 4,
   "toc_cell": false,
   "toc_section_display": "block",
   "toc_window_display": false
  }
 },
 "nbformat": 4,
 "nbformat_minor": 2
}
