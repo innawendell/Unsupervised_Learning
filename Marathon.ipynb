{
 "cells": [
  {
   "cell_type": "code",
   "execution_count": 1,
   "metadata": {},
   "outputs": [
    {
     "name": "stderr",
     "output_type": "stream",
     "text": [
      "/usr/local/lib/python3.7/site-packages/sklearn/utils/__init__.py:4: DeprecationWarning: Using or importing the ABCs from 'collections' instead of from 'collections.abc' is deprecated, and in 3.8 it will stop working\n",
      "  from collections import Sequence\n"
     ]
    }
   ],
   "source": [
    "import numpy as np\n",
    "import pandas as pd\n",
    "import scipy\n",
    "import matplotlib.pyplot as plt\n",
    "import seaborn as sns\n",
    "from sklearn.cluster import KMeans\n",
    "from sklearn.preprocessing import normalize\n",
    "from sklearn.decomposition import PCA\n",
    "from sklearn.cluster import MiniBatchKMeans,MeanShift, estimate_bandwidth, SpectralClustering\n",
    "from sklearn.preprocessing import normalize\n",
    "%matplotlib inline\n",
    "from sklearn import metrics\n",
    "from sklearn.metrics import pairwise_distances\n",
    "from sklearn.model_selection import train_test_split"
   ]
  },
  {
   "cell_type": "code",
   "execution_count": 2,
   "metadata": {},
   "outputs": [],
   "source": [
    "# 2014\n",
    "df = pd.read_csv('/Users/admin/Documents/results.csv', error_bad_lines=False)"
   ]
  },
  {
   "cell_type": "code",
   "execution_count": 3,
   "metadata": {},
   "outputs": [
    {
     "data": {
      "text/plain": [
       "(31984, 21)"
      ]
     },
     "execution_count": 3,
     "metadata": {},
     "output_type": "execute_result"
    }
   ],
   "source": [
    "df.shape"
   ]
  },
  {
   "cell_type": "code",
   "execution_count": 4,
   "metadata": {},
   "outputs": [
    {
     "data": {
      "text/html": [
       "<div>\n",
       "<style scoped>\n",
       "    .dataframe tbody tr th:only-of-type {\n",
       "        vertical-align: middle;\n",
       "    }\n",
       "\n",
       "    .dataframe tbody tr th {\n",
       "        vertical-align: top;\n",
       "    }\n",
       "\n",
       "    .dataframe thead th {\n",
       "        text-align: right;\n",
       "    }\n",
       "</style>\n",
       "<table border=\"1\" class=\"dataframe\">\n",
       "  <thead>\n",
       "    <tr style=\"text-align: right;\">\n",
       "      <th></th>\n",
       "      <th>10k</th>\n",
       "      <th>name</th>\n",
       "      <th>division</th>\n",
       "      <th>25k</th>\n",
       "      <th>gender</th>\n",
       "      <th>age</th>\n",
       "      <th>official</th>\n",
       "      <th>bib</th>\n",
       "      <th>genderdiv</th>\n",
       "      <th>ctz</th>\n",
       "      <th>35k</th>\n",
       "      <th>overall</th>\n",
       "      <th>pace</th>\n",
       "      <th>state</th>\n",
       "      <th>30k</th>\n",
       "      <th>5k</th>\n",
       "      <th>half</th>\n",
       "      <th>20k</th>\n",
       "      <th>country</th>\n",
       "      <th>city</th>\n",
       "      <th>40k</th>\n",
       "    </tr>\n",
       "  </thead>\n",
       "  <tbody>\n",
       "    <tr>\n",
       "      <th>0</th>\n",
       "      <td>17.37</td>\n",
       "      <td>Yamamoto, Hiroyuki</td>\n",
       "      <td>8</td>\n",
       "      <td>47.67</td>\n",
       "      <td>M</td>\n",
       "      <td>47</td>\n",
       "      <td>85.25</td>\n",
       "      <td>W1</td>\n",
       "      <td>8</td>\n",
       "      <td>NaN</td>\n",
       "      <td>71.40</td>\n",
       "      <td>8</td>\n",
       "      <td>3.27</td>\n",
       "      <td>NaN</td>\n",
       "      <td>59.18</td>\n",
       "      <td>8.02</td>\n",
       "      <td>39.72</td>\n",
       "      <td>37.65</td>\n",
       "      <td>JPN</td>\n",
       "      <td>Fukuoka</td>\n",
       "      <td>80.43</td>\n",
       "    </tr>\n",
       "    <tr>\n",
       "      <th>1</th>\n",
       "      <td>32.58</td>\n",
       "      <td>Jeptoo, Rita</td>\n",
       "      <td>1</td>\n",
       "      <td>82.43</td>\n",
       "      <td>F</td>\n",
       "      <td>33</td>\n",
       "      <td>138.95</td>\n",
       "      <td>F1</td>\n",
       "      <td>1</td>\n",
       "      <td>NaN</td>\n",
       "      <td>116.37</td>\n",
       "      <td>21</td>\n",
       "      <td>5.30</td>\n",
       "      <td>NaN</td>\n",
       "      <td>99.33</td>\n",
       "      <td>16.22</td>\n",
       "      <td>69.47</td>\n",
       "      <td>65.83</td>\n",
       "      <td>KEN</td>\n",
       "      <td>Eldoret</td>\n",
       "      <td>132.10</td>\n",
       "    </tr>\n",
       "    <tr>\n",
       "      <th>2</th>\n",
       "      <td>16.62</td>\n",
       "      <td>Van Dyk, Ernst F.</td>\n",
       "      <td>1</td>\n",
       "      <td>45.80</td>\n",
       "      <td>M</td>\n",
       "      <td>41</td>\n",
       "      <td>80.60</td>\n",
       "      <td>W2</td>\n",
       "      <td>1</td>\n",
       "      <td>NaN</td>\n",
       "      <td>67.42</td>\n",
       "      <td>1</td>\n",
       "      <td>3.08</td>\n",
       "      <td>NaN</td>\n",
       "      <td>56.45</td>\n",
       "      <td>7.75</td>\n",
       "      <td>38.03</td>\n",
       "      <td>36.10</td>\n",
       "      <td>RSA</td>\n",
       "      <td>Paarl</td>\n",
       "      <td>76.10</td>\n",
       "    </tr>\n",
       "    <tr>\n",
       "      <th>3</th>\n",
       "      <td>32.57</td>\n",
       "      <td>Dibaba, Mare</td>\n",
       "      <td>3</td>\n",
       "      <td>82.43</td>\n",
       "      <td>F</td>\n",
       "      <td>24</td>\n",
       "      <td>140.58</td>\n",
       "      <td>F2</td>\n",
       "      <td>3</td>\n",
       "      <td>NaN</td>\n",
       "      <td>116.37</td>\n",
       "      <td>27</td>\n",
       "      <td>5.37</td>\n",
       "      <td>NaN</td>\n",
       "      <td>99.33</td>\n",
       "      <td>16.20</td>\n",
       "      <td>69.47</td>\n",
       "      <td>65.83</td>\n",
       "      <td>ETH</td>\n",
       "      <td>Shoa</td>\n",
       "      <td>132.95</td>\n",
       "    </tr>\n",
       "    <tr>\n",
       "      <th>4</th>\n",
       "      <td>17.12</td>\n",
       "      <td>Hokinoue, Kota</td>\n",
       "      <td>2</td>\n",
       "      <td>46.37</td>\n",
       "      <td>M</td>\n",
       "      <td>40</td>\n",
       "      <td>81.23</td>\n",
       "      <td>W3</td>\n",
       "      <td>2</td>\n",
       "      <td>NaN</td>\n",
       "      <td>67.83</td>\n",
       "      <td>2</td>\n",
       "      <td>3.10</td>\n",
       "      <td>NaN</td>\n",
       "      <td>57.03</td>\n",
       "      <td>8.02</td>\n",
       "      <td>38.60</td>\n",
       "      <td>36.58</td>\n",
       "      <td>JPN</td>\n",
       "      <td>Nogata Fukuoka</td>\n",
       "      <td>76.72</td>\n",
       "    </tr>\n",
       "  </tbody>\n",
       "</table>\n",
       "</div>"
      ],
      "text/plain": [
       "     10k                name  division    25k gender  age  official bib  \\\n",
       "0  17.37  Yamamoto, Hiroyuki         8  47.67      M   47     85.25  W1   \n",
       "1  32.58        Jeptoo, Rita         1  82.43      F   33    138.95  F1   \n",
       "2  16.62   Van Dyk, Ernst F.         1  45.80      M   41     80.60  W2   \n",
       "3  32.57        Dibaba, Mare         3  82.43      F   24    140.58  F2   \n",
       "4  17.12      Hokinoue, Kota         2  46.37      M   40     81.23  W3   \n",
       "\n",
       "   genderdiv  ctz     35k  overall  pace state    30k     5k   half    20k  \\\n",
       "0          8  NaN   71.40        8  3.27   NaN  59.18   8.02  39.72  37.65   \n",
       "1          1  NaN  116.37       21  5.30   NaN  99.33  16.22  69.47  65.83   \n",
       "2          1  NaN   67.42        1  3.08   NaN  56.45   7.75  38.03  36.10   \n",
       "3          3  NaN  116.37       27  5.37   NaN  99.33  16.20  69.47  65.83   \n",
       "4          2  NaN   67.83        2  3.10   NaN  57.03   8.02  38.60  36.58   \n",
       "\n",
       "  country            city     40k  \n",
       "0     JPN         Fukuoka   80.43  \n",
       "1     KEN         Eldoret  132.10  \n",
       "2     RSA           Paarl   76.10  \n",
       "3     ETH            Shoa  132.95  \n",
       "4     JPN  Nogata Fukuoka   76.72  "
      ]
     },
     "execution_count": 4,
     "metadata": {},
     "output_type": "execute_result"
    }
   ],
   "source": [
    "pd.set_option('display.max_columns', 21)\n",
    "df.head()"
   ]
  },
  {
   "cell_type": "code",
   "execution_count": 5,
   "metadata": {},
   "outputs": [
    {
     "data": {
      "text/plain": [
       "Index(['10k', 'name', 'division', '25k', 'gender', 'age', 'official', 'bib',\n",
       "       'genderdiv', 'ctz', '35k', 'overall', 'pace', 'state', '30k', '5k',\n",
       "       'half', '20k', 'country', 'city', '40k'],\n",
       "      dtype='object')"
      ]
     },
     "execution_count": 5,
     "metadata": {},
     "output_type": "execute_result"
    }
   ],
   "source": [
    "df.columns"
   ]
  },
  {
   "cell_type": "code",
   "execution_count": 6,
   "metadata": {},
   "outputs": [
    {
     "data": {
      "text/plain": [
       "10k           object\n",
       "name          object\n",
       "division       int64\n",
       "25k           object\n",
       "gender        object\n",
       "age            int64\n",
       "official     float64\n",
       "bib           object\n",
       "genderdiv      int64\n",
       "ctz           object\n",
       "35k           object\n",
       "overall        int64\n",
       "pace         float64\n",
       "state         object\n",
       "30k           object\n",
       "5k            object\n",
       "half          object\n",
       "20k           object\n",
       "country       object\n",
       "city          object\n",
       "40k           object\n",
       "dtype: object"
      ]
     },
     "execution_count": 6,
     "metadata": {},
     "output_type": "execute_result"
    }
   ],
   "source": [
    "df.dtypes"
   ]
  },
  {
   "cell_type": "code",
   "execution_count": 7,
   "metadata": {},
   "outputs": [
    {
     "data": {
      "text/plain": [
       "2576"
      ]
     },
     "execution_count": 7,
     "metadata": {},
     "output_type": "execute_result"
    }
   ],
   "source": [
    "df['state'].isnull().sum()"
   ]
  },
  {
   "cell_type": "code",
   "execution_count": 8,
   "metadata": {},
   "outputs": [],
   "source": [
    "#creating a binary row capturing wheelchair participants\n",
    "\n",
    "def remove(row):\n",
    "    if row['bib'].count('W') >0:\n",
    "        return 1\n",
    "    else:\n",
    "        return 0\n",
    "\n",
    "df['wheelchair'] = df.apply(remove, axis=1)"
   ]
  },
  {
   "cell_type": "code",
   "execution_count": 9,
   "metadata": {},
   "outputs": [
    {
     "data": {
      "text/plain": [
       "array([0, 1])"
      ]
     },
     "execution_count": 9,
     "metadata": {},
     "output_type": "execute_result"
    }
   ],
   "source": [
    "np.unique(df['wheelchair'])"
   ]
  },
  {
   "cell_type": "code",
   "execution_count": 10,
   "metadata": {},
   "outputs": [],
   "source": [
    "# encode women as '1'\n",
    "df['gender'] = np.where(df['gender']=='F', 1,0)"
   ]
  },
  {
   "cell_type": "code",
   "execution_count": 11,
   "metadata": {},
   "outputs": [
    {
     "data": {
      "text/html": [
       "<div>\n",
       "<style scoped>\n",
       "    .dataframe tbody tr th:only-of-type {\n",
       "        vertical-align: middle;\n",
       "    }\n",
       "\n",
       "    .dataframe tbody tr th {\n",
       "        vertical-align: top;\n",
       "    }\n",
       "\n",
       "    .dataframe thead th {\n",
       "        text-align: right;\n",
       "    }\n",
       "</style>\n",
       "<table border=\"1\" class=\"dataframe\">\n",
       "  <thead>\n",
       "    <tr style=\"text-align: right;\">\n",
       "      <th></th>\n",
       "      <th>10k</th>\n",
       "      <th>name</th>\n",
       "      <th>division</th>\n",
       "      <th>25k</th>\n",
       "      <th>gender</th>\n",
       "      <th>age</th>\n",
       "      <th>official</th>\n",
       "      <th>bib</th>\n",
       "      <th>genderdiv</th>\n",
       "      <th>ctz</th>\n",
       "      <th>...</th>\n",
       "      <th>pace</th>\n",
       "      <th>state</th>\n",
       "      <th>30k</th>\n",
       "      <th>5k</th>\n",
       "      <th>half</th>\n",
       "      <th>20k</th>\n",
       "      <th>country</th>\n",
       "      <th>city</th>\n",
       "      <th>40k</th>\n",
       "      <th>wheelchair</th>\n",
       "    </tr>\n",
       "  </thead>\n",
       "  <tbody>\n",
       "    <tr>\n",
       "      <th>0</th>\n",
       "      <td>17.37</td>\n",
       "      <td>Yamamoto, Hiroyuki</td>\n",
       "      <td>8</td>\n",
       "      <td>47.67</td>\n",
       "      <td>0</td>\n",
       "      <td>47</td>\n",
       "      <td>85.25</td>\n",
       "      <td>W1</td>\n",
       "      <td>8</td>\n",
       "      <td>NaN</td>\n",
       "      <td>...</td>\n",
       "      <td>3.27</td>\n",
       "      <td>NaN</td>\n",
       "      <td>59.18</td>\n",
       "      <td>8.02</td>\n",
       "      <td>39.72</td>\n",
       "      <td>37.65</td>\n",
       "      <td>JPN</td>\n",
       "      <td>Fukuoka</td>\n",
       "      <td>80.43</td>\n",
       "      <td>1</td>\n",
       "    </tr>\n",
       "    <tr>\n",
       "      <th>1</th>\n",
       "      <td>32.58</td>\n",
       "      <td>Jeptoo, Rita</td>\n",
       "      <td>1</td>\n",
       "      <td>82.43</td>\n",
       "      <td>1</td>\n",
       "      <td>33</td>\n",
       "      <td>138.95</td>\n",
       "      <td>F1</td>\n",
       "      <td>1</td>\n",
       "      <td>NaN</td>\n",
       "      <td>...</td>\n",
       "      <td>5.30</td>\n",
       "      <td>NaN</td>\n",
       "      <td>99.33</td>\n",
       "      <td>16.22</td>\n",
       "      <td>69.47</td>\n",
       "      <td>65.83</td>\n",
       "      <td>KEN</td>\n",
       "      <td>Eldoret</td>\n",
       "      <td>132.10</td>\n",
       "      <td>0</td>\n",
       "    </tr>\n",
       "    <tr>\n",
       "      <th>2</th>\n",
       "      <td>16.62</td>\n",
       "      <td>Van Dyk, Ernst F.</td>\n",
       "      <td>1</td>\n",
       "      <td>45.80</td>\n",
       "      <td>0</td>\n",
       "      <td>41</td>\n",
       "      <td>80.60</td>\n",
       "      <td>W2</td>\n",
       "      <td>1</td>\n",
       "      <td>NaN</td>\n",
       "      <td>...</td>\n",
       "      <td>3.08</td>\n",
       "      <td>NaN</td>\n",
       "      <td>56.45</td>\n",
       "      <td>7.75</td>\n",
       "      <td>38.03</td>\n",
       "      <td>36.10</td>\n",
       "      <td>RSA</td>\n",
       "      <td>Paarl</td>\n",
       "      <td>76.10</td>\n",
       "      <td>1</td>\n",
       "    </tr>\n",
       "    <tr>\n",
       "      <th>3</th>\n",
       "      <td>32.57</td>\n",
       "      <td>Dibaba, Mare</td>\n",
       "      <td>3</td>\n",
       "      <td>82.43</td>\n",
       "      <td>1</td>\n",
       "      <td>24</td>\n",
       "      <td>140.58</td>\n",
       "      <td>F2</td>\n",
       "      <td>3</td>\n",
       "      <td>NaN</td>\n",
       "      <td>...</td>\n",
       "      <td>5.37</td>\n",
       "      <td>NaN</td>\n",
       "      <td>99.33</td>\n",
       "      <td>16.20</td>\n",
       "      <td>69.47</td>\n",
       "      <td>65.83</td>\n",
       "      <td>ETH</td>\n",
       "      <td>Shoa</td>\n",
       "      <td>132.95</td>\n",
       "      <td>0</td>\n",
       "    </tr>\n",
       "    <tr>\n",
       "      <th>4</th>\n",
       "      <td>17.12</td>\n",
       "      <td>Hokinoue, Kota</td>\n",
       "      <td>2</td>\n",
       "      <td>46.37</td>\n",
       "      <td>0</td>\n",
       "      <td>40</td>\n",
       "      <td>81.23</td>\n",
       "      <td>W3</td>\n",
       "      <td>2</td>\n",
       "      <td>NaN</td>\n",
       "      <td>...</td>\n",
       "      <td>3.10</td>\n",
       "      <td>NaN</td>\n",
       "      <td>57.03</td>\n",
       "      <td>8.02</td>\n",
       "      <td>38.60</td>\n",
       "      <td>36.58</td>\n",
       "      <td>JPN</td>\n",
       "      <td>Nogata Fukuoka</td>\n",
       "      <td>76.72</td>\n",
       "      <td>1</td>\n",
       "    </tr>\n",
       "  </tbody>\n",
       "</table>\n",
       "<p>5 rows × 22 columns</p>\n",
       "</div>"
      ],
      "text/plain": [
       "     10k                name  division    25k  gender  age  official bib  \\\n",
       "0  17.37  Yamamoto, Hiroyuki         8  47.67       0   47     85.25  W1   \n",
       "1  32.58        Jeptoo, Rita         1  82.43       1   33    138.95  F1   \n",
       "2  16.62   Van Dyk, Ernst F.         1  45.80       0   41     80.60  W2   \n",
       "3  32.57        Dibaba, Mare         3  82.43       1   24    140.58  F2   \n",
       "4  17.12      Hokinoue, Kota         2  46.37       0   40     81.23  W3   \n",
       "\n",
       "   genderdiv  ctz    ...      pace  state    30k     5k   half    20k country  \\\n",
       "0          8  NaN    ...      3.27    NaN  59.18   8.02  39.72  37.65     JPN   \n",
       "1          1  NaN    ...      5.30    NaN  99.33  16.22  69.47  65.83     KEN   \n",
       "2          1  NaN    ...      3.08    NaN  56.45   7.75  38.03  36.10     RSA   \n",
       "3          3  NaN    ...      5.37    NaN  99.33  16.20  69.47  65.83     ETH   \n",
       "4          2  NaN    ...      3.10    NaN  57.03   8.02  38.60  36.58     JPN   \n",
       "\n",
       "             city     40k wheelchair  \n",
       "0         Fukuoka   80.43          1  \n",
       "1         Eldoret  132.10          0  \n",
       "2           Paarl   76.10          1  \n",
       "3            Shoa  132.95          0  \n",
       "4  Nogata Fukuoka   76.72          1  \n",
       "\n",
       "[5 rows x 22 columns]"
      ]
     },
     "execution_count": 11,
     "metadata": {},
     "output_type": "execute_result"
    }
   ],
   "source": [
    "df.head()"
   ]
  },
  {
   "cell_type": "code",
   "execution_count": 12,
   "metadata": {},
   "outputs": [],
   "source": [
    "# fill nans with the most frequent values\n",
    "df = df.apply(lambda x: x.fillna(x.value_counts().index[0]))"
   ]
  },
  {
   "cell_type": "code",
   "execution_count": 13,
   "metadata": {},
   "outputs": [],
   "source": [
    "df['10k'] = pd.to_numeric(df['10k'], errors = 'coerce')\n",
    "df['division'] = pd.to_numeric(df['division'], errors = 'coerce')\n",
    "df['25k'] = pd.to_numeric(df['25k'], errors = 'coerce')\n",
    "df['official'] = pd.to_numeric(df['official'], errors = 'coerce')\n",
    "df['genderdiv'] = pd.to_numeric(df['genderdiv'], errors = 'coerce')\n",
    "df['35k'] = pd.to_numeric(df['35k'], errors = 'coerce')\n",
    "df['10k'] = pd.to_numeric(df['10k'], errors = 'coerce')\n",
    "df['30k'] = pd.to_numeric(df['30k'], errors = 'coerce')\n",
    "df['5k'] = pd.to_numeric(df['5k'], errors = 'coerce')\n",
    "df['half'] = pd.to_numeric(df['half'], errors = 'coerce')\n",
    "df['20k'] = pd.to_numeric(df['20k'], errors = 'coerce')\n",
    "df['40k'] = pd.to_numeric(df['40k'], errors = 'coerce')"
   ]
  },
  {
   "cell_type": "code",
   "execution_count": 14,
   "metadata": {},
   "outputs": [
    {
     "data": {
      "text/plain": [
       "10k           float64\n",
       "name           object\n",
       "division        int64\n",
       "25k           float64\n",
       "gender          int64\n",
       "age             int64\n",
       "official      float64\n",
       "bib            object\n",
       "genderdiv       int64\n",
       "ctz            object\n",
       "35k           float64\n",
       "overall         int64\n",
       "pace          float64\n",
       "state          object\n",
       "30k           float64\n",
       "5k            float64\n",
       "half          float64\n",
       "20k           float64\n",
       "country        object\n",
       "city           object\n",
       "40k           float64\n",
       "wheelchair      int64\n",
       "dtype: object"
      ]
     },
     "execution_count": 14,
     "metadata": {},
     "output_type": "execute_result"
    }
   ],
   "source": [
    "df.dtypes"
   ]
  },
  {
   "cell_type": "code",
   "execution_count": 15,
   "metadata": {},
   "outputs": [],
   "source": [
    "numerical =df[['10k',\n",
    "    'division', \n",
    "    '25k', \n",
    "    'age',\n",
    "    'official',\n",
    "    'genderdiv', \n",
    "    '35k', \n",
    "    'overall',\n",
    "    'pace',\n",
    "    '30k', \n",
    "    '5k',\n",
    "    'half', \n",
    "    '20k',  \n",
    "    '40k']]\n"
   ]
  },
  {
   "cell_type": "code",
   "execution_count": 16,
   "metadata": {},
   "outputs": [],
   "source": [
    "numerical = numerical.fillna(numerical.mean())"
   ]
  },
  {
   "cell_type": "code",
   "execution_count": 17,
   "metadata": {},
   "outputs": [],
   "source": [
    "df_concat = pd.concat([numerical, df['gender'], df['wheelchair']], axis=1, join='outer', join_axes=None, ignore_index=False,\n",
    "          keys=None, levels=None, names=None, verify_integrity=False,copy=True)"
   ]
  },
  {
   "cell_type": "code",
   "execution_count": 18,
   "metadata": {},
   "outputs": [
    {
     "data": {
      "text/html": [
       "<div>\n",
       "<style scoped>\n",
       "    .dataframe tbody tr th:only-of-type {\n",
       "        vertical-align: middle;\n",
       "    }\n",
       "\n",
       "    .dataframe tbody tr th {\n",
       "        vertical-align: top;\n",
       "    }\n",
       "\n",
       "    .dataframe thead th {\n",
       "        text-align: right;\n",
       "    }\n",
       "</style>\n",
       "<table border=\"1\" class=\"dataframe\">\n",
       "  <thead>\n",
       "    <tr style=\"text-align: right;\">\n",
       "      <th></th>\n",
       "      <th>10k</th>\n",
       "      <th>division</th>\n",
       "      <th>25k</th>\n",
       "      <th>age</th>\n",
       "      <th>official</th>\n",
       "      <th>genderdiv</th>\n",
       "      <th>35k</th>\n",
       "      <th>overall</th>\n",
       "      <th>pace</th>\n",
       "      <th>30k</th>\n",
       "      <th>5k</th>\n",
       "      <th>half</th>\n",
       "      <th>20k</th>\n",
       "      <th>40k</th>\n",
       "      <th>gender</th>\n",
       "      <th>wheelchair</th>\n",
       "    </tr>\n",
       "  </thead>\n",
       "  <tbody>\n",
       "    <tr>\n",
       "      <th>0</th>\n",
       "      <td>17.37</td>\n",
       "      <td>8</td>\n",
       "      <td>47.67</td>\n",
       "      <td>47</td>\n",
       "      <td>85.25</td>\n",
       "      <td>8</td>\n",
       "      <td>71.40</td>\n",
       "      <td>8</td>\n",
       "      <td>3.27</td>\n",
       "      <td>59.18</td>\n",
       "      <td>8.02</td>\n",
       "      <td>39.72</td>\n",
       "      <td>37.65</td>\n",
       "      <td>80.43</td>\n",
       "      <td>0</td>\n",
       "      <td>1</td>\n",
       "    </tr>\n",
       "    <tr>\n",
       "      <th>1</th>\n",
       "      <td>32.58</td>\n",
       "      <td>1</td>\n",
       "      <td>82.43</td>\n",
       "      <td>33</td>\n",
       "      <td>138.95</td>\n",
       "      <td>1</td>\n",
       "      <td>116.37</td>\n",
       "      <td>21</td>\n",
       "      <td>5.30</td>\n",
       "      <td>99.33</td>\n",
       "      <td>16.22</td>\n",
       "      <td>69.47</td>\n",
       "      <td>65.83</td>\n",
       "      <td>132.10</td>\n",
       "      <td>1</td>\n",
       "      <td>0</td>\n",
       "    </tr>\n",
       "    <tr>\n",
       "      <th>2</th>\n",
       "      <td>16.62</td>\n",
       "      <td>1</td>\n",
       "      <td>45.80</td>\n",
       "      <td>41</td>\n",
       "      <td>80.60</td>\n",
       "      <td>1</td>\n",
       "      <td>67.42</td>\n",
       "      <td>1</td>\n",
       "      <td>3.08</td>\n",
       "      <td>56.45</td>\n",
       "      <td>7.75</td>\n",
       "      <td>38.03</td>\n",
       "      <td>36.10</td>\n",
       "      <td>76.10</td>\n",
       "      <td>0</td>\n",
       "      <td>1</td>\n",
       "    </tr>\n",
       "    <tr>\n",
       "      <th>3</th>\n",
       "      <td>32.57</td>\n",
       "      <td>3</td>\n",
       "      <td>82.43</td>\n",
       "      <td>24</td>\n",
       "      <td>140.58</td>\n",
       "      <td>3</td>\n",
       "      <td>116.37</td>\n",
       "      <td>27</td>\n",
       "      <td>5.37</td>\n",
       "      <td>99.33</td>\n",
       "      <td>16.20</td>\n",
       "      <td>69.47</td>\n",
       "      <td>65.83</td>\n",
       "      <td>132.95</td>\n",
       "      <td>1</td>\n",
       "      <td>0</td>\n",
       "    </tr>\n",
       "    <tr>\n",
       "      <th>4</th>\n",
       "      <td>17.12</td>\n",
       "      <td>2</td>\n",
       "      <td>46.37</td>\n",
       "      <td>40</td>\n",
       "      <td>81.23</td>\n",
       "      <td>2</td>\n",
       "      <td>67.83</td>\n",
       "      <td>2</td>\n",
       "      <td>3.10</td>\n",
       "      <td>57.03</td>\n",
       "      <td>8.02</td>\n",
       "      <td>38.60</td>\n",
       "      <td>36.58</td>\n",
       "      <td>76.72</td>\n",
       "      <td>0</td>\n",
       "      <td>1</td>\n",
       "    </tr>\n",
       "    <tr>\n",
       "      <th>5</th>\n",
       "      <td>32.58</td>\n",
       "      <td>4</td>\n",
       "      <td>82.45</td>\n",
       "      <td>29</td>\n",
       "      <td>140.68</td>\n",
       "      <td>4</td>\n",
       "      <td>116.37</td>\n",
       "      <td>28</td>\n",
       "      <td>5.37</td>\n",
       "      <td>99.33</td>\n",
       "      <td>16.22</td>\n",
       "      <td>69.47</td>\n",
       "      <td>65.83</td>\n",
       "      <td>132.95</td>\n",
       "      <td>1</td>\n",
       "      <td>0</td>\n",
       "    </tr>\n",
       "    <tr>\n",
       "      <th>6</th>\n",
       "      <td>17.65</td>\n",
       "      <td>4</td>\n",
       "      <td>47.67</td>\n",
       "      <td>28</td>\n",
       "      <td>84.65</td>\n",
       "      <td>4</td>\n",
       "      <td>70.23</td>\n",
       "      <td>4</td>\n",
       "      <td>3.23</td>\n",
       "      <td>58.60</td>\n",
       "      <td>8.38</td>\n",
       "      <td>39.72</td>\n",
       "      <td>37.65</td>\n",
       "      <td>79.83</td>\n",
       "      <td>0</td>\n",
       "      <td>1</td>\n",
       "    </tr>\n",
       "    <tr>\n",
       "      <th>7</th>\n",
       "      <td>30.48</td>\n",
       "      <td>5</td>\n",
       "      <td>76.95</td>\n",
       "      <td>29</td>\n",
       "      <td>129.83</td>\n",
       "      <td>5</td>\n",
       "      <td>107.47</td>\n",
       "      <td>5</td>\n",
       "      <td>4.97</td>\n",
       "      <td>92.52</td>\n",
       "      <td>15.17</td>\n",
       "      <td>64.85</td>\n",
       "      <td>61.62</td>\n",
       "      <td>122.80</td>\n",
       "      <td>0</td>\n",
       "      <td>0</td>\n",
       "    </tr>\n",
       "    <tr>\n",
       "      <th>8</th>\n",
       "      <td>17.12</td>\n",
       "      <td>3</td>\n",
       "      <td>46.37</td>\n",
       "      <td>43</td>\n",
       "      <td>81.23</td>\n",
       "      <td>3</td>\n",
       "      <td>67.83</td>\n",
       "      <td>3</td>\n",
       "      <td>3.10</td>\n",
       "      <td>57.03</td>\n",
       "      <td>8.00</td>\n",
       "      <td>38.60</td>\n",
       "      <td>36.60</td>\n",
       "      <td>76.70</td>\n",
       "      <td>0</td>\n",
       "      <td>1</td>\n",
       "    </tr>\n",
       "    <tr>\n",
       "      <th>9</th>\n",
       "      <td>30.48</td>\n",
       "      <td>20</td>\n",
       "      <td>77.68</td>\n",
       "      <td>31</td>\n",
       "      <td>137.83</td>\n",
       "      <td>20</td>\n",
       "      <td>112.27</td>\n",
       "      <td>20</td>\n",
       "      <td>5.27</td>\n",
       "      <td>94.78</td>\n",
       "      <td>15.15</td>\n",
       "      <td>65.23</td>\n",
       "      <td>61.78</td>\n",
       "      <td>129.83</td>\n",
       "      <td>0</td>\n",
       "      <td>0</td>\n",
       "    </tr>\n",
       "    <tr>\n",
       "      <th>10</th>\n",
       "      <td>32.58</td>\n",
       "      <td>8</td>\n",
       "      <td>82.45</td>\n",
       "      <td>30</td>\n",
       "      <td>143.00</td>\n",
       "      <td>8</td>\n",
       "      <td>116.92</td>\n",
       "      <td>40</td>\n",
       "      <td>5.47</td>\n",
       "      <td>99.35</td>\n",
       "      <td>16.22</td>\n",
       "      <td>69.47</td>\n",
       "      <td>65.85</td>\n",
       "      <td>134.65</td>\n",
       "      <td>1</td>\n",
       "      <td>0</td>\n",
       "    </tr>\n",
       "    <tr>\n",
       "      <th>11</th>\n",
       "      <td>30.52</td>\n",
       "      <td>2</td>\n",
       "      <td>76.97</td>\n",
       "      <td>28</td>\n",
       "      <td>128.80</td>\n",
       "      <td>2</td>\n",
       "      <td>107.47</td>\n",
       "      <td>2</td>\n",
       "      <td>4.92</td>\n",
       "      <td>92.52</td>\n",
       "      <td>15.18</td>\n",
       "      <td>64.87</td>\n",
       "      <td>61.63</td>\n",
       "      <td>121.95</td>\n",
       "      <td>0</td>\n",
       "      <td>0</td>\n",
       "    </tr>\n",
       "    <tr>\n",
       "      <th>12</th>\n",
       "      <td>18.13</td>\n",
       "      <td>11</td>\n",
       "      <td>49.17</td>\n",
       "      <td>49</td>\n",
       "      <td>86.95</td>\n",
       "      <td>11</td>\n",
       "      <td>72.60</td>\n",
       "      <td>11</td>\n",
       "      <td>3.32</td>\n",
       "      <td>60.85</td>\n",
       "      <td>8.40</td>\n",
       "      <td>41.18</td>\n",
       "      <td>39.03</td>\n",
       "      <td>82.17</td>\n",
       "      <td>0</td>\n",
       "      <td>1</td>\n",
       "    </tr>\n",
       "    <tr>\n",
       "      <th>13</th>\n",
       "      <td>32.58</td>\n",
       "      <td>17</td>\n",
       "      <td>85.55</td>\n",
       "      <td>33</td>\n",
       "      <td>152.07</td>\n",
       "      <td>17</td>\n",
       "      <td>124.22</td>\n",
       "      <td>121</td>\n",
       "      <td>5.80</td>\n",
       "      <td>104.62</td>\n",
       "      <td>16.22</td>\n",
       "      <td>71.10</td>\n",
       "      <td>67.15</td>\n",
       "      <td>143.50</td>\n",
       "      <td>1</td>\n",
       "      <td>0</td>\n",
       "    </tr>\n",
       "    <tr>\n",
       "      <th>14</th>\n",
       "      <td>17.12</td>\n",
       "      <td>13</td>\n",
       "      <td>48.88</td>\n",
       "      <td>29</td>\n",
       "      <td>87.40</td>\n",
       "      <td>13</td>\n",
       "      <td>72.83</td>\n",
       "      <td>13</td>\n",
       "      <td>3.35</td>\n",
       "      <td>60.82</td>\n",
       "      <td>8.02</td>\n",
       "      <td>40.20</td>\n",
       "      <td>38.02</td>\n",
       "      <td>82.38</td>\n",
       "      <td>0</td>\n",
       "      <td>1</td>\n",
       "    </tr>\n",
       "    <tr>\n",
       "      <th>15</th>\n",
       "      <td>33.93</td>\n",
       "      <td>10</td>\n",
       "      <td>85.03</td>\n",
       "      <td>30</td>\n",
       "      <td>143.90</td>\n",
       "      <td>10</td>\n",
       "      <td>119.68</td>\n",
       "      <td>46</td>\n",
       "      <td>5.50</td>\n",
       "      <td>102.40</td>\n",
       "      <td>16.92</td>\n",
       "      <td>71.68</td>\n",
       "      <td>67.92</td>\n",
       "      <td>136.47</td>\n",
       "      <td>1</td>\n",
       "      <td>0</td>\n",
       "    </tr>\n",
       "    <tr>\n",
       "      <th>16</th>\n",
       "      <td>17.13</td>\n",
       "      <td>5</td>\n",
       "      <td>47.45</td>\n",
       "      <td>34</td>\n",
       "      <td>84.70</td>\n",
       "      <td>5</td>\n",
       "      <td>70.60</td>\n",
       "      <td>5</td>\n",
       "      <td>3.23</td>\n",
       "      <td>58.73</td>\n",
       "      <td>8.02</td>\n",
       "      <td>39.12</td>\n",
       "      <td>36.98</td>\n",
       "      <td>79.92</td>\n",
       "      <td>0</td>\n",
       "      <td>1</td>\n",
       "    </tr>\n",
       "    <tr>\n",
       "      <th>17</th>\n",
       "      <td>32.57</td>\n",
       "      <td>2</td>\n",
       "      <td>82.43</td>\n",
       "      <td>26</td>\n",
       "      <td>139.98</td>\n",
       "      <td>2</td>\n",
       "      <td>116.38</td>\n",
       "      <td>25</td>\n",
       "      <td>5.35</td>\n",
       "      <td>99.35</td>\n",
       "      <td>16.20</td>\n",
       "      <td>69.47</td>\n",
       "      <td>65.83</td>\n",
       "      <td>132.65</td>\n",
       "      <td>1</td>\n",
       "      <td>0</td>\n",
       "    </tr>\n",
       "    <tr>\n",
       "      <th>18</th>\n",
       "      <td>18.17</td>\n",
       "      <td>7</td>\n",
       "      <td>49.15</td>\n",
       "      <td>38</td>\n",
       "      <td>84.88</td>\n",
       "      <td>7</td>\n",
       "      <td>70.83</td>\n",
       "      <td>7</td>\n",
       "      <td>3.25</td>\n",
       "      <td>59.92</td>\n",
       "      <td>8.67</td>\n",
       "      <td>41.20</td>\n",
       "      <td>39.05</td>\n",
       "      <td>80.18</td>\n",
       "      <td>0</td>\n",
       "      <td>1</td>\n",
       "    </tr>\n",
       "    <tr>\n",
       "      <th>19</th>\n",
       "      <td>34.80</td>\n",
       "      <td>13</td>\n",
       "      <td>87.83</td>\n",
       "      <td>31</td>\n",
       "      <td>150.48</td>\n",
       "      <td>13</td>\n",
       "      <td>124.53</td>\n",
       "      <td>102</td>\n",
       "      <td>5.75</td>\n",
       "      <td>106.03</td>\n",
       "      <td>17.32</td>\n",
       "      <td>73.95</td>\n",
       "      <td>70.10</td>\n",
       "      <td>142.68</td>\n",
       "      <td>1</td>\n",
       "      <td>0</td>\n",
       "    </tr>\n",
       "  </tbody>\n",
       "</table>\n",
       "</div>"
      ],
      "text/plain": [
       "      10k  division    25k  age  official  genderdiv     35k  overall  pace  \\\n",
       "0   17.37         8  47.67   47     85.25          8   71.40        8  3.27   \n",
       "1   32.58         1  82.43   33    138.95          1  116.37       21  5.30   \n",
       "2   16.62         1  45.80   41     80.60          1   67.42        1  3.08   \n",
       "3   32.57         3  82.43   24    140.58          3  116.37       27  5.37   \n",
       "4   17.12         2  46.37   40     81.23          2   67.83        2  3.10   \n",
       "5   32.58         4  82.45   29    140.68          4  116.37       28  5.37   \n",
       "6   17.65         4  47.67   28     84.65          4   70.23        4  3.23   \n",
       "7   30.48         5  76.95   29    129.83          5  107.47        5  4.97   \n",
       "8   17.12         3  46.37   43     81.23          3   67.83        3  3.10   \n",
       "9   30.48        20  77.68   31    137.83         20  112.27       20  5.27   \n",
       "10  32.58         8  82.45   30    143.00          8  116.92       40  5.47   \n",
       "11  30.52         2  76.97   28    128.80          2  107.47        2  4.92   \n",
       "12  18.13        11  49.17   49     86.95         11   72.60       11  3.32   \n",
       "13  32.58        17  85.55   33    152.07         17  124.22      121  5.80   \n",
       "14  17.12        13  48.88   29     87.40         13   72.83       13  3.35   \n",
       "15  33.93        10  85.03   30    143.90         10  119.68       46  5.50   \n",
       "16  17.13         5  47.45   34     84.70          5   70.60        5  3.23   \n",
       "17  32.57         2  82.43   26    139.98          2  116.38       25  5.35   \n",
       "18  18.17         7  49.15   38     84.88          7   70.83        7  3.25   \n",
       "19  34.80        13  87.83   31    150.48         13  124.53      102  5.75   \n",
       "\n",
       "       30k     5k   half    20k     40k  gender  wheelchair  \n",
       "0    59.18   8.02  39.72  37.65   80.43       0           1  \n",
       "1    99.33  16.22  69.47  65.83  132.10       1           0  \n",
       "2    56.45   7.75  38.03  36.10   76.10       0           1  \n",
       "3    99.33  16.20  69.47  65.83  132.95       1           0  \n",
       "4    57.03   8.02  38.60  36.58   76.72       0           1  \n",
       "5    99.33  16.22  69.47  65.83  132.95       1           0  \n",
       "6    58.60   8.38  39.72  37.65   79.83       0           1  \n",
       "7    92.52  15.17  64.85  61.62  122.80       0           0  \n",
       "8    57.03   8.00  38.60  36.60   76.70       0           1  \n",
       "9    94.78  15.15  65.23  61.78  129.83       0           0  \n",
       "10   99.35  16.22  69.47  65.85  134.65       1           0  \n",
       "11   92.52  15.18  64.87  61.63  121.95       0           0  \n",
       "12   60.85   8.40  41.18  39.03   82.17       0           1  \n",
       "13  104.62  16.22  71.10  67.15  143.50       1           0  \n",
       "14   60.82   8.02  40.20  38.02   82.38       0           1  \n",
       "15  102.40  16.92  71.68  67.92  136.47       1           0  \n",
       "16   58.73   8.02  39.12  36.98   79.92       0           1  \n",
       "17   99.35  16.20  69.47  65.83  132.65       1           0  \n",
       "18   59.92   8.67  41.20  39.05   80.18       0           1  \n",
       "19  106.03  17.32  73.95  70.10  142.68       1           0  "
      ]
     },
     "execution_count": 18,
     "metadata": {},
     "output_type": "execute_result"
    }
   ],
   "source": [
    "df_concat.head(20)"
   ]
  },
  {
   "cell_type": "code",
   "execution_count": 19,
   "metadata": {},
   "outputs": [
    {
     "data": {
      "text/plain": [
       "10k           float64\n",
       "division        int64\n",
       "25k           float64\n",
       "age             int64\n",
       "official      float64\n",
       "genderdiv       int64\n",
       "35k           float64\n",
       "overall         int64\n",
       "pace          float64\n",
       "30k           float64\n",
       "5k            float64\n",
       "half          float64\n",
       "20k           float64\n",
       "40k           float64\n",
       "gender          int64\n",
       "wheelchair      int64\n",
       "dtype: object"
      ]
     },
     "execution_count": 19,
     "metadata": {},
     "output_type": "execute_result"
    }
   ],
   "source": [
    "df_concat.dtypes"
   ]
  },
  {
   "cell_type": "code",
   "execution_count": 20,
   "metadata": {},
   "outputs": [],
   "source": [
    "# Train-test split\n",
    "X_train, X_test = train_test_split(\n",
    "    df_concat,\n",
    "    test_size=0.5,\n",
    "    random_state=42)"
   ]
  },
  {
   "cell_type": "code",
   "execution_count": 21,
   "metadata": {},
   "outputs": [
    {
     "data": {
      "text/plain": [
       "(15992, 16)"
      ]
     },
     "execution_count": 21,
     "metadata": {},
     "output_type": "execute_result"
    }
   ],
   "source": [
    "X_train.shape"
   ]
  },
  {
   "cell_type": "code",
   "execution_count": 22,
   "metadata": {},
   "outputs": [],
   "source": [
    "from sklearn.preprocessing import Normalizer\n",
    "normalizer = Normalizer(norm='l1')\n",
    "\n",
    "#normalize only non-binary features\n",
    "X_train_norm = normalizer.fit_transform(X_train.iloc[:, :14])\n",
    "X_test_norm = normalizer.transform(X_test.iloc[:, :14])"
   ]
  },
  {
   "cell_type": "code",
   "execution_count": 23,
   "metadata": {},
   "outputs": [],
   "source": [
    "numerical_X_train = pd.DataFrame(X_train_norm, columns = numerical.columns)"
   ]
  },
  {
   "cell_type": "code",
   "execution_count": 24,
   "metadata": {},
   "outputs": [],
   "source": [
    "#creating a normalized train set (with binary features left binary)\n",
    "X_train_concat = pd.concat([numerical_X_train, X_train['gender'], X_train['wheelchair']], axis=1, join='outer', join_axes=None, ignore_index=False,\n",
    "          keys=None, levels=None, names=None, verify_integrity=False,copy=True)"
   ]
  },
  {
   "cell_type": "code",
   "execution_count": 25,
   "metadata": {},
   "outputs": [
    {
     "data": {
      "text/html": [
       "<div>\n",
       "<style scoped>\n",
       "    .dataframe tbody tr th:only-of-type {\n",
       "        vertical-align: middle;\n",
       "    }\n",
       "\n",
       "    .dataframe tbody tr th {\n",
       "        vertical-align: top;\n",
       "    }\n",
       "\n",
       "    .dataframe thead th {\n",
       "        text-align: right;\n",
       "    }\n",
       "</style>\n",
       "<table border=\"1\" class=\"dataframe\">\n",
       "  <thead>\n",
       "    <tr style=\"text-align: right;\">\n",
       "      <th></th>\n",
       "      <th>10k</th>\n",
       "      <th>division</th>\n",
       "      <th>25k</th>\n",
       "      <th>age</th>\n",
       "      <th>official</th>\n",
       "      <th>genderdiv</th>\n",
       "      <th>35k</th>\n",
       "      <th>overall</th>\n",
       "      <th>pace</th>\n",
       "      <th>30k</th>\n",
       "      <th>5k</th>\n",
       "      <th>half</th>\n",
       "      <th>20k</th>\n",
       "      <th>40k</th>\n",
       "      <th>gender</th>\n",
       "      <th>wheelchair</th>\n",
       "    </tr>\n",
       "  </thead>\n",
       "  <tbody>\n",
       "    <tr>\n",
       "      <th>0</th>\n",
       "      <td>0.003174</td>\n",
       "      <td>0.077310</td>\n",
       "      <td>0.008019</td>\n",
       "      <td>0.003007</td>\n",
       "      <td>0.014591</td>\n",
       "      <td>0.390728</td>\n",
       "      <td>0.011697</td>\n",
       "      <td>0.452708</td>\n",
       "      <td>0.000557</td>\n",
       "      <td>0.009810</td>\n",
       "      <td>0.001592</td>\n",
       "      <td>0.006726</td>\n",
       "      <td>0.006367</td>\n",
       "      <td>0.013714</td>\n",
       "      <td>NaN</td>\n",
       "      <td>NaN</td>\n",
       "    </tr>\n",
       "    <tr>\n",
       "      <th>1</th>\n",
       "      <td>0.001703</td>\n",
       "      <td>0.045534</td>\n",
       "      <td>0.004342</td>\n",
       "      <td>0.001405</td>\n",
       "      <td>0.007824</td>\n",
       "      <td>0.265202</td>\n",
       "      <td>0.006318</td>\n",
       "      <td>0.646820</td>\n",
       "      <td>0.000299</td>\n",
       "      <td>0.005309</td>\n",
       "      <td>0.000834</td>\n",
       "      <td>0.003631</td>\n",
       "      <td>0.003441</td>\n",
       "      <td>0.007339</td>\n",
       "      <td>1.0</td>\n",
       "      <td>0.0</td>\n",
       "    </tr>\n",
       "    <tr>\n",
       "      <th>2</th>\n",
       "      <td>0.001392</td>\n",
       "      <td>0.112260</td>\n",
       "      <td>0.003498</td>\n",
       "      <td>0.000847</td>\n",
       "      <td>0.006632</td>\n",
       "      <td>0.319079</td>\n",
       "      <td>0.005257</td>\n",
       "      <td>0.533836</td>\n",
       "      <td>0.000253</td>\n",
       "      <td>0.004298</td>\n",
       "      <td>0.000722</td>\n",
       "      <td>0.002926</td>\n",
       "      <td>0.002773</td>\n",
       "      <td>0.006227</td>\n",
       "      <td>0.0</td>\n",
       "      <td>1.0</td>\n",
       "    </tr>\n",
       "  </tbody>\n",
       "</table>\n",
       "</div>"
      ],
      "text/plain": [
       "        10k  division       25k       age  official  genderdiv       35k  \\\n",
       "0  0.003174  0.077310  0.008019  0.003007  0.014591   0.390728  0.011697   \n",
       "1  0.001703  0.045534  0.004342  0.001405  0.007824   0.265202  0.006318   \n",
       "2  0.001392  0.112260  0.003498  0.000847  0.006632   0.319079  0.005257   \n",
       "\n",
       "    overall      pace       30k        5k      half       20k       40k  \\\n",
       "0  0.452708  0.000557  0.009810  0.001592  0.006726  0.006367  0.013714   \n",
       "1  0.646820  0.000299  0.005309  0.000834  0.003631  0.003441  0.007339   \n",
       "2  0.533836  0.000253  0.004298  0.000722  0.002926  0.002773  0.006227   \n",
       "\n",
       "   gender  wheelchair  \n",
       "0     NaN         NaN  \n",
       "1     1.0         0.0  \n",
       "2     0.0         1.0  "
      ]
     },
     "execution_count": 25,
     "metadata": {},
     "output_type": "execute_result"
    }
   ],
   "source": [
    "X_train_concat.head(3)"
   ]
  },
  {
   "cell_type": "code",
   "execution_count": 26,
   "metadata": {},
   "outputs": [
    {
     "data": {
      "text/plain": [
       "(24044, 16)"
      ]
     },
     "execution_count": 26,
     "metadata": {},
     "output_type": "execute_result"
    }
   ],
   "source": [
    "X_train_concat.shape"
   ]
  },
  {
   "cell_type": "code",
   "execution_count": 27,
   "metadata": {},
   "outputs": [],
   "source": [
    "numerical_X_test = pd.DataFrame(X_test_norm, columns = numerical.columns)"
   ]
  },
  {
   "cell_type": "code",
   "execution_count": 28,
   "metadata": {},
   "outputs": [],
   "source": [
    "X_test_concat = pd.concat([numerical_X_test, X_test['gender'],X_test['wheelchair']], axis=1, join='outer', join_axes=None, ignore_index=False,\n",
    "          keys=None, levels=None, names=None, verify_integrity=False,copy=True)"
   ]
  },
  {
   "cell_type": "code",
   "execution_count": 29,
   "metadata": {},
   "outputs": [
    {
     "data": {
      "text/plain": [
       "10k           8052\n",
       "division      8052\n",
       "25k           8052\n",
       "age           8052\n",
       "official      8052\n",
       "genderdiv     8052\n",
       "35k           8052\n",
       "overall       8052\n",
       "pace          8052\n",
       "30k           8052\n",
       "5k            8052\n",
       "half          8052\n",
       "20k           8052\n",
       "40k           8052\n",
       "gender        8052\n",
       "wheelchair    8052\n",
       "dtype: int64"
      ]
     },
     "execution_count": 29,
     "metadata": {},
     "output_type": "execute_result"
    }
   ],
   "source": [
    "X_train_concat.isnull().sum()"
   ]
  },
  {
   "cell_type": "code",
   "execution_count": 30,
   "metadata": {},
   "outputs": [
    {
     "ename": "ValueError",
     "evalue": "Input contains NaN, infinity or a value too large for dtype('float64').",
     "output_type": "error",
     "traceback": [
      "\u001b[0;31m---------------------------------------------------------------------------\u001b[0m",
      "\u001b[0;31mValueError\u001b[0m                                Traceback (most recent call last)",
      "\u001b[0;32m<ipython-input-30-0569722b0c0f>\u001b[0m in \u001b[0;36m<module>\u001b[0;34m()\u001b[0m\n\u001b[1;32m      1\u001b[0m \u001b[0mpca\u001b[0m \u001b[0;34m=\u001b[0m \u001b[0mPCA\u001b[0m\u001b[0;34m(\u001b[0m\u001b[0mn_components\u001b[0m\u001b[0;34m=\u001b[0m\u001b[0;36m2\u001b[0m\u001b[0;34m)\u001b[0m\u001b[0;34m\u001b[0m\u001b[0m\n\u001b[0;32m----> 2\u001b[0;31m \u001b[0mX_train_pca\u001b[0m \u001b[0;34m=\u001b[0m \u001b[0mpca\u001b[0m\u001b[0;34m.\u001b[0m\u001b[0mfit_transform\u001b[0m\u001b[0;34m(\u001b[0m\u001b[0mX_train_concat\u001b[0m\u001b[0;34m)\u001b[0m\u001b[0;34m\u001b[0m\u001b[0m\n\u001b[0m",
      "\u001b[0;32m/usr/local/lib/python3.7/site-packages/sklearn/decomposition/pca.py\u001b[0m in \u001b[0;36mfit_transform\u001b[0;34m(self, X, y)\u001b[0m\n\u001b[1;32m    357\u001b[0m \u001b[0;34m\u001b[0m\u001b[0m\n\u001b[1;32m    358\u001b[0m         \"\"\"\n\u001b[0;32m--> 359\u001b[0;31m         \u001b[0mU\u001b[0m\u001b[0;34m,\u001b[0m \u001b[0mS\u001b[0m\u001b[0;34m,\u001b[0m \u001b[0mV\u001b[0m \u001b[0;34m=\u001b[0m \u001b[0mself\u001b[0m\u001b[0;34m.\u001b[0m\u001b[0m_fit\u001b[0m\u001b[0;34m(\u001b[0m\u001b[0mX\u001b[0m\u001b[0;34m)\u001b[0m\u001b[0;34m\u001b[0m\u001b[0m\n\u001b[0m\u001b[1;32m    360\u001b[0m         \u001b[0mU\u001b[0m \u001b[0;34m=\u001b[0m \u001b[0mU\u001b[0m\u001b[0;34m[\u001b[0m\u001b[0;34m:\u001b[0m\u001b[0;34m,\u001b[0m \u001b[0;34m:\u001b[0m\u001b[0mself\u001b[0m\u001b[0;34m.\u001b[0m\u001b[0mn_components_\u001b[0m\u001b[0;34m]\u001b[0m\u001b[0;34m\u001b[0m\u001b[0m\n\u001b[1;32m    361\u001b[0m \u001b[0;34m\u001b[0m\u001b[0m\n",
      "\u001b[0;32m/usr/local/lib/python3.7/site-packages/sklearn/decomposition/pca.py\u001b[0m in \u001b[0;36m_fit\u001b[0;34m(self, X)\u001b[0m\n\u001b[1;32m    379\u001b[0m \u001b[0;34m\u001b[0m\u001b[0m\n\u001b[1;32m    380\u001b[0m         X = check_array(X, dtype=[np.float64, np.float32], ensure_2d=True,\n\u001b[0;32m--> 381\u001b[0;31m                         copy=self.copy)\n\u001b[0m\u001b[1;32m    382\u001b[0m \u001b[0;34m\u001b[0m\u001b[0m\n\u001b[1;32m    383\u001b[0m         \u001b[0;31m# Handle n_components==None\u001b[0m\u001b[0;34m\u001b[0m\u001b[0;34m\u001b[0m\u001b[0m\n",
      "\u001b[0;32m/usr/local/lib/python3.7/site-packages/sklearn/utils/validation.py\u001b[0m in \u001b[0;36mcheck_array\u001b[0;34m(array, accept_sparse, accept_large_sparse, dtype, order, copy, force_all_finite, ensure_2d, allow_nd, ensure_min_samples, ensure_min_features, warn_on_dtype, estimator)\u001b[0m\n\u001b[1;32m    561\u001b[0m         \u001b[0;32mif\u001b[0m \u001b[0mforce_all_finite\u001b[0m\u001b[0;34m:\u001b[0m\u001b[0;34m\u001b[0m\u001b[0m\n\u001b[1;32m    562\u001b[0m             _assert_all_finite(array,\n\u001b[0;32m--> 563\u001b[0;31m                                allow_nan=force_all_finite == 'allow-nan')\n\u001b[0m\u001b[1;32m    564\u001b[0m \u001b[0;34m\u001b[0m\u001b[0m\n\u001b[1;32m    565\u001b[0m     \u001b[0mshape_repr\u001b[0m \u001b[0;34m=\u001b[0m \u001b[0m_shape_repr\u001b[0m\u001b[0;34m(\u001b[0m\u001b[0marray\u001b[0m\u001b[0;34m.\u001b[0m\u001b[0mshape\u001b[0m\u001b[0;34m)\u001b[0m\u001b[0;34m\u001b[0m\u001b[0m\n",
      "\u001b[0;32m/usr/local/lib/python3.7/site-packages/sklearn/utils/validation.py\u001b[0m in \u001b[0;36m_assert_all_finite\u001b[0;34m(X, allow_nan)\u001b[0m\n\u001b[1;32m     54\u001b[0m                 not allow_nan and not np.isfinite(X).all()):\n\u001b[1;32m     55\u001b[0m             \u001b[0mtype_err\u001b[0m \u001b[0;34m=\u001b[0m \u001b[0;34m'infinity'\u001b[0m \u001b[0;32mif\u001b[0m \u001b[0mallow_nan\u001b[0m \u001b[0;32melse\u001b[0m \u001b[0;34m'NaN, infinity'\u001b[0m\u001b[0;34m\u001b[0m\u001b[0m\n\u001b[0;32m---> 56\u001b[0;31m             \u001b[0;32mraise\u001b[0m \u001b[0mValueError\u001b[0m\u001b[0;34m(\u001b[0m\u001b[0mmsg_err\u001b[0m\u001b[0;34m.\u001b[0m\u001b[0mformat\u001b[0m\u001b[0;34m(\u001b[0m\u001b[0mtype_err\u001b[0m\u001b[0;34m,\u001b[0m \u001b[0mX\u001b[0m\u001b[0;34m.\u001b[0m\u001b[0mdtype\u001b[0m\u001b[0;34m)\u001b[0m\u001b[0;34m)\u001b[0m\u001b[0;34m\u001b[0m\u001b[0m\n\u001b[0m\u001b[1;32m     57\u001b[0m \u001b[0;34m\u001b[0m\u001b[0m\n\u001b[1;32m     58\u001b[0m \u001b[0;34m\u001b[0m\u001b[0m\n",
      "\u001b[0;31mValueError\u001b[0m: Input contains NaN, infinity or a value too large for dtype('float64')."
     ]
    }
   ],
   "source": [
    "pca = PCA(n_components=2)\n",
    "X_train_pca = pca.fit_transform(X_train_concat)"
   ]
  },
  {
   "cell_type": "code",
   "execution_count": null,
   "metadata": {},
   "outputs": [],
   "source": [
    "X_test_pca = pca.transform(X_test)"
   ]
  },
  {
   "cell_type": "markdown",
   "metadata": {},
   "source": [
    "# Mean Shift"
   ]
  },
  {
   "cell_type": "code",
   "execution_count": null,
   "metadata": {},
   "outputs": [],
   "source": [
    "n_clusters = []\n",
    "for sample in [X1, X2, X3, X4]:\n",
    "    bandwidth = estimate_bandwidth(sample, quantile=0.2, n_samples=500)\n",
    "    model = MeanShift(bandwidth=bandwidth, bin_seeding=True, n_jobs = -1)\n",
    "    model.fit(sample)\n",
    "    labels = model.labels_ #model.predict(test_set)\n",
    "    n_clusters_ = len(np.unique(labels))\n",
    "    n_clusters.append(n_clusters_)\n",
    "    print(metrics.silhouette_score(sample, labels, metric='euclidean'))"
   ]
  },
  {
   "cell_type": "code",
   "execution_count": null,
   "metadata": {},
   "outputs": [],
   "source": [
    "# the number of clusters stays consistent\n",
    "n_clusters"
   ]
  },
  {
   "cell_type": "code",
   "execution_count": null,
   "metadata": {},
   "outputs": [],
   "source": [
    "clusters = [2, 3, 5, 7, 8]\n",
    "for number in clusters:\n",
    "    minibatchkmeans = MiniBatchKMeans(init='k-means++',\n",
    "                        n_clusters=number, \n",
    "                        random_state=42, \n",
    "                        batch_size=200).fit(X1)\n",
    "    labels = minibatchkmeans.labels_\n",
    "    print('Estimated number of clusters: {}'.format(number))\n",
    "    print(metrics.silhouette_score(X1, labels, metric='euclidean'))"
   ]
  },
  {
   "cell_type": "code",
   "execution_count": null,
   "metadata": {},
   "outputs": [],
   "source": [
    "clusters = [2, 3, 5, 7, 8]\n",
    "for number in clusters:\n",
    "    minibatchkmeans = MiniBatchKMeans(init='k-means++',\n",
    "                        n_clusters=number, \n",
    "                        random_state=42, \n",
    "                        batch_size=200).fit(X2)\n",
    "    labels = minibatchkmeans.labels_\n",
    "    print('Estimated number of clusters: {}'.format(number))\n",
    "    print(metrics.silhouette_score(X2, labels, metric='euclidean'))"
   ]
  },
  {
   "cell_type": "code",
   "execution_count": null,
   "metadata": {},
   "outputs": [],
   "source": [
    "clusters = [2, 3, 5, 7, 8]\n",
    "for number in clusters:\n",
    "    minibatchkmeans = MiniBatchKMeans(init='k-means++',\n",
    "                        n_clusters=number, \n",
    "                        random_state=42, \n",
    "                        batch_size=200).fit(X3)\n",
    "    labels = minibatchkmeans.labels_\n",
    "    print('Estimated number of clusters: {}'.format(number))\n",
    "    print(metrics.silhouette_score(X3, labels, metric='euclidean'))"
   ]
  },
  {
   "cell_type": "code",
   "execution_count": null,
   "metadata": {},
   "outputs": [],
   "source": [
    "clusters = [2, 3, 5, 7, 8]\n",
    "for number in clusters:\n",
    "    minibatchkmeans = MiniBatchKMeans(init='k-means++',\n",
    "                        n_clusters=number, \n",
    "                        random_state=42, \n",
    "                        batch_size=200).fit(X4)\n",
    "    labels = minibatchkmeans.labels_\n",
    "    print('Estimated number of clusters: {}'.format(number))\n",
    "    print(metrics.silhouette_score(X4, labels, metric='euclidean'))"
   ]
  },
  {
   "cell_type": "markdown",
   "metadata": {},
   "source": [
    "`MiniBatchKmeans stays stable with 2 and 3 clusters.`"
   ]
  },
  {
   "cell_type": "markdown",
   "metadata": {},
   "source": [
    "# Spectral Clustering"
   ]
  },
  {
   "cell_type": "code",
   "execution_count": null,
   "metadata": {},
   "outputs": [],
   "source": [
    "clusters = [2, 3, 5, 7, 8]\n",
    "for number in clusters:\n",
    "    sc = SpectralClustering(n_clusters=number, n_jobs = -1)\n",
    "    sc.fit(X1)\n",
    "    labels = sc.labels_\n",
    "    print('Estimated number of clusters: {}'.format(number))\n",
    "    print(metrics.silhouette_score(X1, labels, metric='euclidean'))"
   ]
  },
  {
   "cell_type": "code",
   "execution_count": null,
   "metadata": {},
   "outputs": [],
   "source": [
    "clusters = [2, 3, 5, 7, 8]\n",
    "for number in clusters:\n",
    "    sc = SpectralClustering(n_clusters=number, n_jobs = -1)\n",
    "    sc.fit(X2)\n",
    "    labels = sc.labels_\n",
    "    print('Estimated number of clusters: {}'.format(number))\n",
    "    print(metrics.silhouette_score(X2, labels, metric='euclidean'))"
   ]
  },
  {
   "cell_type": "code",
   "execution_count": null,
   "metadata": {},
   "outputs": [],
   "source": [
    "clusters = [2, 3, 5, 7, 8]\n",
    "for number in clusters:\n",
    "    sc = SpectralClustering(n_clusters=number, n_jobs = -1)\n",
    "    sc.fit(X3)\n",
    "    labels = sc.labels_\n",
    "    print('Estimated number of clusters: {}'.format(number))\n",
    "    print(metrics.silhouette_score(X3, labels, metric='euclidean'))"
   ]
  },
  {
   "cell_type": "code",
   "execution_count": null,
   "metadata": {},
   "outputs": [],
   "source": [
    "clusters = [2, 3, 5, 7, 8]\n",
    "for number in clusters:\n",
    "    sc = SpectralClustering(n_clusters=number, n_jobs = -1)\n",
    "    sc.fit(X4)\n",
    "    labels = sc.labels_\n",
    "    print('Estimated number of clusters: {}'.format(number))\n",
    "    print(metrics.silhouette_score(X4, labels, metric='euclidean'))"
   ]
  },
  {
   "cell_type": "markdown",
   "metadata": {},
   "source": [
    "`Spectral clustering stays stable with 2 and 5 clusters.`"
   ]
  },
  {
   "cell_type": "code",
   "execution_count": null,
   "metadata": {},
   "outputs": [],
   "source": [
    "sc = SpectralClustering(n_clusters=2, n_jobs = -1)\n",
    "sc.fit(X1)\n",
    "sc_labels = sc.labels_"
   ]
  },
  {
   "cell_type": "code",
   "execution_count": null,
   "metadata": {},
   "outputs": [],
   "source": [
    "plt.figure(figsize=(20,7))\n",
    "\n",
    "plt.subplot(141)\n",
    "sc = SpectralClustering(n_clusters=2, n_jobs = -1)\n",
    "sc.fit(X1)\n",
    "sc_labels = sc.labels_\n",
    "plt.scatter(X_pca1[:, 0], X_pca1[:, 1], c=sc_labels)\n",
    "plt.title('Sample 1')\n",
    "\n",
    "plt.subplot(142)\n",
    "sc.fit(X2)\n",
    "sc_2labels = sc.labels_\n",
    "plt.scatter(X_pca2[:, 0], X_pca2[:, 1], c=sc_2labels)\n",
    "plt.title('Sample 2')\n",
    "\n",
    "plt.subplot(143)\n",
    "sc.fit(X3)\n",
    "sc_3labels = sc.labels_\n",
    "plt.scatter(X_pca3[:, 0], X_pca3[:, 1], c=sc_3labels)\n",
    "plt.title('Spectral Clustering With Two Clusters')\n",
    "plt.title('Sample 3')\n",
    "\n",
    "plt.subplot(144)\n",
    "sc.fit(X4)\n",
    "sc_4labels = sc.labels_\n",
    "plt.scatter(X_pca4[:, 0], X_pca4[:, 1], c=sc_4labels)\n",
    "plt.title('Sample 4')\n",
    "\n",
    "plt.suptitle('Spectral Clustering With Two Clusters')\n",
    "plt.show()"
   ]
  },
  {
   "cell_type": "code",
   "execution_count": null,
   "metadata": {},
   "outputs": [],
   "source": [
    "minibatchkmeans = MiniBatchKMeans(init='k-means++',\n",
    "                        n_clusters=2, \n",
    "                        random_state=42, \n",
    "                        batch_size=200)"
   ]
  },
  {
   "cell_type": "code",
   "execution_count": null,
   "metadata": {},
   "outputs": [],
   "source": [
    "plt.figure(figsize=(20,7))\n",
    "\n",
    "plt.subplot(141)\n",
    "\n",
    "minibatchkmeans.fit(X1)\n",
    "mini_labels = minibatchkmeans.labels_\n",
    "plt.scatter(X_pca1[:, 0], X_pca1[:, 1], c=mini_labels)\n",
    "plt.title('Sample 1')\n",
    "\n",
    "plt.subplot(142)\n",
    "minibatchkmeans.fit(X2)\n",
    "mini_2labels = minibatchkmeans.labels_\n",
    "plt.scatter(X_pca2[:, 0], X_pca2[:, 1], c=mini_2labels)\n",
    "plt.title('Sample 2')\n",
    "\n",
    "plt.subplot(143)\n",
    "minibatchkmeans.fit(X3)\n",
    "mini_3labels = minibatchkmeans.labels_\n",
    "plt.scatter(X_pca3[:, 0], X_pca3[:, 1], c=mini_3labels)\n",
    "plt.title('Sample 3')\n",
    "\n",
    "plt.subplot(144)\n",
    "minibatchkmeans.fit(X4)\n",
    "mini_4labels = minibatchkmeans.labels_\n",
    "plt.scatter(X_pca4[:, 0], X_pca4[:, 1], c=mini_4labels)\n",
    "plt.title('Sample 4')\n",
    "\n",
    "plt.suptitle('MiniBatch KMeans With Two Clusters')\n",
    "plt.show()"
   ]
  },
  {
   "cell_type": "markdown",
   "metadata": {},
   "source": [
    "# Centroids Location"
   ]
  },
  {
   "cell_type": "markdown",
   "metadata": {},
   "source": [
    "First cluster is comprised of participants who are more likely to be older, female or in a wheelchair. They overall took almost twice as much time to reach each milestone. The second cluster is comprised of people who are more likely to be younger, male,and less likely to be disabled. They are twice as fast on average."
   ]
  },
  {
   "cell_type": "code",
   "execution_count": null,
   "metadata": {},
   "outputs": [],
   "source": [
    "pd.DataFrame(minibatchkmeans.cluster_centers_, columns = df_concat.columns)"
   ]
  },
  {
   "cell_type": "code",
   "execution_count": null,
   "metadata": {},
   "outputs": [],
   "source": [
    "plt.figure(figsize=(20,7))\n",
    "\n",
    "plt.subplot(141)\n",
    "bandwidth = estimate_bandwidth(X1, quantile=0.2, n_samples=500)\n",
    "ms = MeanShift(bandwidth=bandwidth, bin_seeding=True, n_jobs = -1).fit(X1)\n",
    "ms_labels = ms.labels_\n",
    "plt.scatter(X_pca1[:, 0], X_pca1[:, 1], c=ms_labels)\n",
    "plt.title('Sample 1')\n",
    "\n",
    "plt.subplot(142)\n",
    "bandwidth = estimate_bandwidth(X2, quantile=0.2, n_samples=500)\n",
    "ms = MeanShift(bandwidth=bandwidth, bin_seeding=True, n_jobs = -1).fit(X2)\n",
    "ms1_labels = ms.labels_\n",
    "plt.scatter(X_pca2[:, 0], X_pca2[:, 1], c=ms1_labels)\n",
    "plt.title('Sample 2')\n",
    "\n",
    "plt.subplot(143)\n",
    "bandwidth = estimate_bandwidth(X3, quantile=0.2, n_samples=500)\n",
    "ms = MeanShift(bandwidth=bandwidth, bin_seeding=True, n_jobs = -1).fit(X3)\n",
    "ms2_labels = ms.labels_\n",
    "plt.scatter(X_pca3[:, 0], X_pca3[:, 1], c=ms2_labels)\n",
    "plt.title('Sample 3')\n",
    "\n",
    "plt.subplot(144)\n",
    "bandwidth = estimate_bandwidth(X4, quantile=0.2, n_samples=500)\n",
    "ms = MeanShift(bandwidth=bandwidth, bin_seeding=True, n_jobs = -1).fit(X4)\n",
    "ms3_labels = ms.labels_\n",
    "plt.scatter(X_pca4[:, 0], X_pca4[:, 1], c=ms3_labels)\n",
    "plt.title('Sample 4')\n",
    "\n",
    "plt.suptitle('Mean Shift Clustering')\n",
    "plt.show()"
   ]
  },
  {
   "cell_type": "code",
   "execution_count": null,
   "metadata": {},
   "outputs": [],
   "source": [
    "plt.figure(figsize=(20,7))\n",
    "\n",
    "plt.subplot(141)\n",
    "sc = SpectralClustering(n_clusters=5, n_jobs = -1)\n",
    "sc.fit(X1)\n",
    "sc_labels = sc.labels_\n",
    "plt.scatter(X_pca1[:, 0], X_pca1[:, 1], c=sc_labels)\n",
    "plt.title('Sample 1')\n",
    "\n",
    "plt.subplot(142)\n",
    "sc = SpectralClustering(n_clusters=5, n_jobs = -1)\n",
    "sc.fit(X2)\n",
    "sc1_labels = sc.labels_\n",
    "plt.scatter(X_pca2[:, 0], X_pca2[:, 1], c=sc1_labels)\n",
    "plt.title('Sample 2')\n",
    "\n",
    "plt.subplot(143)\n",
    "sc = SpectralClustering(n_clusters=5, n_jobs = -1)\n",
    "sc.fit(X3)\n",
    "sc2_labels = sc.labels_\n",
    "plt.scatter(X_pca3[:, 0], X_pca3[:, 1], c=sc2_labels)\n",
    "plt.title('Sample 3')\n",
    "\n",
    "plt.subplot(144)\n",
    "sc = SpectralClustering(n_clusters=5, n_jobs = -1)\n",
    "sc.fit(X4)\n",
    "sc3_labels = sc.labels_\n",
    "plt.scatter(X_pca4[:, 0], X_pca4[:, 1], c=sc3_labels)\n",
    "plt.title('Sample 4')\n",
    "\n",
    "plt.suptitle('Spectral Clustering with Five Clusters')\n",
    "plt.show()"
   ]
  },
  {
   "cell_type": "markdown",
   "metadata": {},
   "source": [
    "# Further Examination of The Clusters"
   ]
  },
  {
   "cell_type": "code",
   "execution_count": null,
   "metadata": {},
   "outputs": [],
   "source": [
    "sc = SpectralClustering(n_clusters=5, n_jobs = -1)\n",
    "sc.fit(X1)\n",
    "X1['labels'] = sc.labels_"
   ]
  },
  {
   "cell_type": "code",
   "execution_count": null,
   "metadata": {},
   "outputs": [],
   "source": [
    "# we have five unique clusters\n",
    "np.unique(X1['labels'])"
   ]
  },
  {
   "cell_type": "code",
   "execution_count": null,
   "metadata": {},
   "outputs": [],
   "source": [
    "# include all the datapoints from '0' cluster out of thethe first sample\n",
    "zero = X1[X1['labels']==0]"
   ]
  },
  {
   "cell_type": "code",
   "execution_count": null,
   "metadata": {},
   "outputs": [],
   "source": [
    "\n",
    "g = sns.pairplot(X1, vars = ['age','gender', 'wheelchair', 'half', '40k'], hue = 'labels')"
   ]
  },
  {
   "cell_type": "markdown",
   "metadata": {},
   "source": [
    "Group zero cluster includes younger men who are not disabled and who were very fast."
   ]
  },
  {
   "cell_type": "code",
   "execution_count": null,
   "metadata": {},
   "outputs": [],
   "source": [
    "g = sns.pairplot(zero[['age','gender', 'wheelchair', 'half', '40k']])"
   ]
  },
  {
   "cell_type": "code",
   "execution_count": null,
   "metadata": {},
   "outputs": [],
   "source": [
    "one = X1[X1['labels']==1]"
   ]
  },
  {
   "cell_type": "markdown",
   "metadata": {},
   "source": [
    "Group one includes men and women in a wheelchair who varied in age and tended to have slower finishing results."
   ]
  },
  {
   "cell_type": "code",
   "execution_count": null,
   "metadata": {},
   "outputs": [],
   "source": [
    "g = sns.pairplot(one[['age','gender', 'wheelchair', 'half', '40k']])"
   ]
  },
  {
   "cell_type": "code",
   "execution_count": null,
   "metadata": {},
   "outputs": [],
   "source": [
    "two = X1[X1['labels']==2]"
   ]
  },
  {
   "cell_type": "markdown",
   "metadata": {},
   "source": [
    "Group two included younger women who were not in a wheel chair and who ran fast."
   ]
  },
  {
   "cell_type": "code",
   "execution_count": null,
   "metadata": {},
   "outputs": [],
   "source": [
    "g = sns.pairplot(two[['age','gender', 'wheelchair', 'half', '40k']])"
   ]
  },
  {
   "cell_type": "code",
   "execution_count": null,
   "metadata": {},
   "outputs": [],
   "source": [
    "three = X1[X1['labels']==3]"
   ]
  },
  {
   "cell_type": "markdown",
   "metadata": {},
   "source": [
    "Group three had mainly men (and some women) of various age groups who were not in a wheelchair and who tended to be slower."
   ]
  },
  {
   "cell_type": "code",
   "execution_count": null,
   "metadata": {},
   "outputs": [],
   "source": [
    "g = sns.pairplot(three[['age','gender', 'wheelchair', 'half', '40k']])"
   ]
  },
  {
   "cell_type": "code",
   "execution_count": null,
   "metadata": {},
   "outputs": [],
   "source": [
    "four = X1[X1['labels']==4]"
   ]
  },
  {
   "cell_type": "markdown",
   "metadata": {},
   "source": [
    "The fourth group is comprised of non-disabled men who were not as young as members of group zero and who were fast but not as fast as members of group zero or group two (young non-disabled women)."
   ]
  },
  {
   "cell_type": "code",
   "execution_count": null,
   "metadata": {},
   "outputs": [],
   "source": [
    "g = sns.pairplot(four[['age','gender', 'wheelchair', 'half', '40k']])"
   ]
  },
  {
   "cell_type": "markdown",
   "metadata": {},
   "source": [
    "# Summary"
   ]
  },
  {
   "cell_type": "markdown",
   "metadata": {},
   "source": [
    "Clustering algorithms give two stable solutions for the marathon data.\n",
    "\n",
    "`Two cluster solution divides the data into two groups (MiniBatch K-Means):` \n",
    "\n",
    "- Participants who are more likely to be older, female or in a wheelchair. They overall took almost twice as much time to reach each milestone. \n",
    "- People who are more likely to be younger, male,and less likely to be disabled. They are twice as fast on average.\n",
    "\n",
    "`Five cluster solution provides the following sub-divisions (Spectral Clustering):`\n",
    "- Younger men who are not disabled and who were very fast.\n",
    "- Men and women in a wheelchair who varied in age and tended to have slower finishing results.\n",
    "- Group two included younger women who were not in a wheel chair and who ran fast.\n",
    "- Group three had mainly men (and some women) of various age groups who were not in a wheelchair and who tended to be slower.\n",
    "- Non-disabled men who were not as young as members of group zero and who were fast but not as fast as members of group zero or group two (young non-disabled women)."
   ]
  },
  {
   "cell_type": "code",
   "execution_count": null,
   "metadata": {},
   "outputs": [],
   "source": []
  }
 ],
 "metadata": {
  "kernelspec": {
   "display_name": "Python 3",
   "language": "python",
   "name": "python3"
  },
  "language_info": {
   "codemirror_mode": {
    "name": "ipython",
    "version": 3
   },
   "file_extension": ".py",
   "mimetype": "text/x-python",
   "name": "python",
   "nbconvert_exporter": "python",
   "pygments_lexer": "ipython3",
   "version": "3.7.0"
  }
 },
 "nbformat": 4,
 "nbformat_minor": 2
}
